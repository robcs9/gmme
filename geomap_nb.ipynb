{
 "cells": [
  {
   "cell_type": "markdown",
   "metadata": {},
   "source": [
    "# Geopandas Notes"
   ]
  },
  {
   "cell_type": "code",
   "execution_count": 1,
   "metadata": {},
   "outputs": [],
   "source": [
    "import geopandas as gpd"
   ]
  },
  {
   "cell_type": "code",
   "execution_count": null,
   "metadata": {},
   "outputs": [
    {
     "data": {
      "text/plain": [
       "{'DXF': 'rw',\n",
       " 'CSV': 'raw',\n",
       " 'OpenFileGDB': 'raw',\n",
       " 'ESRIJSON': 'r',\n",
       " 'ESRI Shapefile': 'raw',\n",
       " 'FlatGeobuf': 'raw',\n",
       " 'GeoJSON': 'raw',\n",
       " 'GeoJSONSeq': 'raw',\n",
       " 'GPKG': 'raw',\n",
       " 'GML': 'rw',\n",
       " 'OGR_GMT': 'rw',\n",
       " 'GPX': 'rw',\n",
       " 'Idrisi': 'r',\n",
       " 'MapInfo File': 'raw',\n",
       " 'DGN': 'raw',\n",
       " 'PCIDSK': 'raw',\n",
       " 'OGR_PDS': 'r',\n",
       " 'S57': 'r',\n",
       " 'SQLite': 'raw',\n",
       " 'TopoJSON': 'r'}"
      ]
     },
     "execution_count": 2,
     "metadata": {},
     "output_type": "execute_result"
    }
   ],
   "source": [
    "import fiona\n",
    "fiona.drvsupport.supported_drivers\n",
    "\n",
    "# housing_data = gpd.read_file('./data/data.csv')\n",
    "\n",
    "# map_data = gpd.read_file('./data/moradias.kmz', driver='KMZ', allow)\n",
    "\n",
    "# map_data.plot()"
   ]
  },
  {
   "cell_type": "markdown",
   "metadata": {},
   "source": [
    "# Dynamic Map Services"
   ]
  },
  {
   "cell_type": "code",
   "execution_count": 4,
   "metadata": {},
   "outputs": [],
   "source": [
    "import pandas as pd\n",
    "import plotly.express as px"
   ]
  },
  {
   "cell_type": "code",
   "execution_count": 21,
   "metadata": {},
   "outputs": [
    {
     "name": "stdout",
     "output_type": "stream",
     "text": [
      "                                            title   price  \\\n",
      "id                                                          \n",
      "0                       Alugo casa estilo kitnet   R$ 800   \n",
      "1          PENSIONATO CIDADE UNIVERSITÁRIA - UFPE  R$ 680   \n",
      "2                     Quarto privativo - Madalena  R$ 650   \n",
      "3                     Quarto individual Masculino  R$ 500   \n",
      "4   Casa em ótima localização, próximo ao centro!  R$ 750   \n",
      "\n",
      "                                           address  \\\n",
      "id                                                   \n",
      "0                 Rua Torres Homem, Várzea, Recife   \n",
      "1        Rua Deputado Cunha Rabelo, Várzea, Recife   \n",
      "2   Rua Demócrito de Souza Filho, Madalena, Recife   \n",
      "3               Rua Elpídio Branco, Várzea, Recife   \n",
      "4             Rua Rodrigo Delamare, Várzea, Recife   \n",
      "\n",
      "                                                  url  \n",
      "id                                                     \n",
      "0   https://pe.olx.com.br/grande-recife/imoveis/al...  \n",
      "1   https://pe.olx.com.br/grande-recife/imoveis/pe...  \n",
      "2   https://pe.olx.com.br/grande-recife/imoveis/qu...  \n",
      "3   https://pe.olx.com.br/grande-recife/imoveis/qu...  \n",
      "4   https://pe.olx.com.br/grande-recife/imoveis/ca...  \n"
     ]
    }
   ],
   "source": [
    "# import sys\n",
    "# sys.path.append('./archive')\n",
    "df = pd.read_csv('./archive/data_sample.csv', index_col=0)\n",
    "print(df[['title','price','address','url']].head())"
   ]
  },
  {
   "cell_type": "code",
   "execution_count": null,
   "metadata": {},
   "outputs": [
    {
     "ename": "ValueError",
     "evalue": "Mime type rendering requires nbformat>=4.2.0 but it is not installed",
     "output_type": "error",
     "traceback": [
      "\u001b[1;31m---------------------------------------------------------------------------\u001b[0m",
      "\u001b[1;31mValueError\u001b[0m                                Traceback (most recent call last)",
      "File \u001b[1;32m~\\AppData\\Roaming\\Python\\Python313\\site-packages\\IPython\\core\\formatters.py:925\u001b[0m, in \u001b[0;36mIPythonDisplayFormatter.__call__\u001b[1;34m(self, obj)\u001b[0m\n\u001b[0;32m    923\u001b[0m method \u001b[38;5;241m=\u001b[39m get_real_method(obj, \u001b[38;5;28mself\u001b[39m\u001b[38;5;241m.\u001b[39mprint_method)\n\u001b[0;32m    924\u001b[0m \u001b[38;5;28;01mif\u001b[39;00m method \u001b[38;5;129;01mis\u001b[39;00m \u001b[38;5;129;01mnot\u001b[39;00m \u001b[38;5;28;01mNone\u001b[39;00m:\n\u001b[1;32m--> 925\u001b[0m     \u001b[43mmethod\u001b[49m\u001b[43m(\u001b[49m\u001b[43m)\u001b[49m\n\u001b[0;32m    926\u001b[0m     \u001b[38;5;28;01mreturn\u001b[39;00m \u001b[38;5;28;01mTrue\u001b[39;00m\n",
      "File \u001b[1;32m~\\AppData\\Roaming\\Python\\Python313\\site-packages\\plotly\\basedatatypes.py:832\u001b[0m, in \u001b[0;36mBaseFigure._ipython_display_\u001b[1;34m(self)\u001b[0m\n\u001b[0;32m    829\u001b[0m \u001b[38;5;28;01mimport\u001b[39;00m \u001b[38;5;21;01mplotly\u001b[39;00m\u001b[38;5;21;01m.\u001b[39;00m\u001b[38;5;21;01mio\u001b[39;00m \u001b[38;5;28;01mas\u001b[39;00m \u001b[38;5;21;01mpio\u001b[39;00m\n\u001b[0;32m    831\u001b[0m \u001b[38;5;28;01mif\u001b[39;00m pio\u001b[38;5;241m.\u001b[39mrenderers\u001b[38;5;241m.\u001b[39mrender_on_display \u001b[38;5;129;01mand\u001b[39;00m pio\u001b[38;5;241m.\u001b[39mrenderers\u001b[38;5;241m.\u001b[39mdefault:\n\u001b[1;32m--> 832\u001b[0m     \u001b[43mpio\u001b[49m\u001b[38;5;241;43m.\u001b[39;49m\u001b[43mshow\u001b[49m\u001b[43m(\u001b[49m\u001b[38;5;28;43mself\u001b[39;49m\u001b[43m)\u001b[49m\n\u001b[0;32m    833\u001b[0m \u001b[38;5;28;01melse\u001b[39;00m:\n\u001b[0;32m    834\u001b[0m     \u001b[38;5;28mprint\u001b[39m(\u001b[38;5;28mrepr\u001b[39m(\u001b[38;5;28mself\u001b[39m))\n",
      "File \u001b[1;32m~\\AppData\\Roaming\\Python\\Python313\\site-packages\\plotly\\io\\_renderers.py:394\u001b[0m, in \u001b[0;36mshow\u001b[1;34m(fig, renderer, validate, **kwargs)\u001b[0m\n\u001b[0;32m    389\u001b[0m         \u001b[38;5;28;01mraise\u001b[39;00m \u001b[38;5;167;01mValueError\u001b[39;00m(\n\u001b[0;32m    390\u001b[0m             \u001b[38;5;124m\"\u001b[39m\u001b[38;5;124mMime type rendering requires ipython but it is not installed\u001b[39m\u001b[38;5;124m\"\u001b[39m\n\u001b[0;32m    391\u001b[0m         )\n\u001b[0;32m    393\u001b[0m     \u001b[38;5;28;01mif\u001b[39;00m \u001b[38;5;129;01mnot\u001b[39;00m nbformat \u001b[38;5;129;01mor\u001b[39;00m Version(nbformat\u001b[38;5;241m.\u001b[39m__version__) \u001b[38;5;241m<\u001b[39m Version(\u001b[38;5;124m\"\u001b[39m\u001b[38;5;124m4.2.0\u001b[39m\u001b[38;5;124m\"\u001b[39m):\n\u001b[1;32m--> 394\u001b[0m         \u001b[38;5;28;01mraise\u001b[39;00m \u001b[38;5;167;01mValueError\u001b[39;00m(\n\u001b[0;32m    395\u001b[0m             \u001b[38;5;124m\"\u001b[39m\u001b[38;5;124mMime type rendering requires nbformat>=4.2.0 but it is not installed\u001b[39m\u001b[38;5;124m\"\u001b[39m\n\u001b[0;32m    396\u001b[0m         )\n\u001b[0;32m    398\u001b[0m     ipython_display\u001b[38;5;241m.\u001b[39mdisplay(bundle, raw\u001b[38;5;241m=\u001b[39m\u001b[38;5;28;01mTrue\u001b[39;00m)\n\u001b[0;32m    400\u001b[0m \u001b[38;5;66;03m# external renderers\u001b[39;00m\n",
      "\u001b[1;31mValueError\u001b[0m: Mime type rendering requires nbformat>=4.2.0 but it is not installed"
     ]
    },
    {
     "data": {
      "application/vnd.plotly.v1+json": {
       "config": {
        "plotlyServerURL": "https://plot.ly"
       },
       "data": [
        {
         "customdata": [
          [
           "Alugo casa estilo kitnet ",
           "R$ 800",
           "https://pe.olx.com.br/grande-recife/imoveis/alugo-casa-estilo-kitnet-1355828350"
          ],
          [
           "PENSIONATO CIDADE UNIVERSITÁRIA - UFPE",
           "R$ 680",
           "https://pe.olx.com.br/grande-recife/imoveis/pensionato-cidade-universitaria-ufpe-1316924785"
          ],
          [
           "Quarto privativo - Madalena",
           "R$ 650",
           "https://pe.olx.com.br/grande-recife/imoveis/quarto-privativo-madalena-1355931998"
          ],
          [
           "Quarto individual Masculino",
           "R$ 500",
           "https://pe.olx.com.br/grande-recife/imoveis/quarto-individual-masculino-1355865426"
          ],
          [
           "Casa em ótima localização, próximo ao centro!",
           "R$ 750",
           "https://pe.olx.com.br/grande-recife/imoveis/casa-em-otima-localizacao-proximo-ao-centro-1355784536"
          ],
          [
           "Casa próximo a ufpe 600mts ",
           "R$ 950",
           "https://pe.olx.com.br/grande-recife/imoveis/casa-proximo-a-ufpe-600mts-1129224132"
          ],
          [
           "Casa para Alugar - Próximo ao Centro",
           "R$ 500",
           "https://pe.olx.com.br/grande-recife/imoveis/casa-para-alugar-proximo-ao-centro-1355680531"
          ],
          [
           "Salas Aluguel Cidade Universitária Várzea",
           "R$ 800",
           "https://pe.olx.com.br/grande-recife/imoveis/salas-aluguel-cidade-universitaria-varzea-1355492941"
          ],
          [
           "Aluguel de casa",
           "R$ 850",
           "https://pe.olx.com.br/grande-recife/imoveis/aluguel-de-casa-1355408406"
          ],
          [
           "Kitnet  na caxangá",
           "R$ 500",
           "https://pe.olx.com.br/grande-recife/imoveis/kitnet-na-caxanga-1355378286"
          ],
          [
           "Aluga-se apartamento ",
           "R$ 1.000",
           "https://pe.olx.com.br/grande-recife/imoveis/aluga-se-apartamento-1355360983"
          ],
          [
           "Quarto em apto Compartilhado",
           "R$ 480",
           "https://pe.olx.com.br/grande-recife/imoveis/quarto-em-apto-compartilhado-1355321026"
          ],
          [
           "Quartos individuais para alunas de mestrado e doutorado próximo a UFPE",
           "R$ 580",
           "https://pe.olx.com.br/grande-recife/imoveis/quartos-individuais-para-alunas-de-mestrado-e-doutorado-proximo-a-ufpe-1355301860"
          ],
          [
           "Loft Derby",
           "R$ 150",
           "https://pe.olx.com.br/grande-recife/imoveis/loft-derby-1355197921"
          ],
          [
           "Aluga-se um kitnet ",
           "R$ 400",
           "https://pe.olx.com.br/grande-recife/imoveis/aluga-se-um-kitnet-1354774742"
          ],
          [
           "kitnet próximo a UFPE na Várzea - Recife - PE",
           "R$ 650",
           "https://pe.olx.com.br/grande-recife/imoveis/kitnet-proximo-a-ufpe-na-varzea-recife-pe-1354617408"
          ],
          [
           "Aluga-se Quarto mobiliado ao lado da UFPE - Vaga para mulheres ",
           "R$ 900",
           "https://pe.olx.com.br/grande-recife/imoveis/aluga-se-quarto-mobiliado-ao-lado-da-ufpe-vaga-para-mulheres-1354503830"
          ],
          [
           "Aluga vaga de quarto na Várzea próximo UFPE e CAXANGÁ",
           "R$ 550",
           "https://pe.olx.com.br/grande-recife/imoveis/aluga-vaga-de-quarto-na-varzea-proximo-ufpe-e-caxanga-1354423036"
          ],
          [
           "Casa super grande em Dois unidos ",
           "R$ 600",
           "https://pe.olx.com.br/grande-recife/imoveis/casa-super-grande-em-dois-unidos-1354373577"
          ],
          [
           "Aluguel Flat/Kitnet na Várzea!",
           "R$ 450",
           "https://pe.olx.com.br/grande-recife/imoveis/aluguel-flat-kitnet-na-varzea-1354276311"
          ],
          [
           "Quarto para alugar no Cordeiro ",
           "R$ 650",
           "https://pe.olx.com.br/grande-recife/imoveis/quarto-para-alugar-no-cordeiro-1354151150"
          ],
          [
           "Aluga-se quarto  para estudantes e sala comercial, próximo a UFPE",
           "R$ 750",
           "https://pe.olx.com.br/grande-recife/imoveis/aluga-se-quarto-para-estudantes-e-sala-comercial-proximo-a-ufpe-1250165482"
          ],
          [
           "Kitnet mobiliado em jardim Petrópolis na várzea ",
           "R$ 1.000",
           "https://pe.olx.com.br/grande-recife/imoveis/kitnet-mobiliado-em-jardim-petropolis-na-varzea-1353898516"
          ],
          [
           "Kitnet Individual para Estudante UFPE",
           "R$ 750",
           "https://pe.olx.com.br/grande-recife/imoveis/kitnet-individual-para-estudante-ufpe-1353676606"
          ],
          [
           "Casa na Várzea ",
           "R$ 800",
           "https://pe.olx.com.br/grande-recife/imoveis/casa-na-varzea-1353526853"
          ],
          [
           "Vendo ou alugo",
           "R$ 380",
           "https://pe.olx.com.br/grande-recife/imoveis/vendo-ou-alugo-1353487635"
          ],
          [
           "Casa com Sala Ampla",
           "R$ 800",
           "https://pe.olx.com.br/grande-recife/imoveis/casa-com-sala-ampla-1344808939"
          ],
          [
           "KITINETE * EM FRENTE  ao CFCH * UFPE  **** APT com 2 quartos próximo do HC UFPE",
           "R$ 850",
           "https://pe.olx.com.br/grande-recife/imoveis/kitinete-em-frente-ao-cfch-ufpe--apt-com-2-quartos-proximo-do-hc-ufpe-1150440635"
          ],
          [
           "Apartamento compartilhado. ",
           "R$ 700",
           "https://pe.olx.com.br/grande-recife/imoveis/apartamento-compartilhado-1355442139"
          ],
          [
           "Alugo Kitnet e outros imóveis próximos da UFPE",
           "R$ 800",
           "https://pe.olx.com.br/grande-recife/imoveis/alugo-kitnet-e-outros-imoveis-proximos-da-ufpe-1353319772"
          ],
          [
           "Apartamento para Alugar",
           "R$ 1.000",
           "https://pe.olx.com.br/grande-recife/imoveis/apartamento-para-alugar-1347288035"
          ],
          [
           "Aluga-se casa com dois quartos, banheiro, cozinha americana.",
           "R$ 450",
           "https://pe.olx.com.br/grande-recife/imoveis/aluga-se-casa-com-dois-quartos-banheiro-cozinha-americana-1355289471"
          ],
          [
           "Alugo casa na Iputinga poucos metros da av. Caxangá ",
           "R$ 1.000",
           "https://pe.olx.com.br/grande-recife/imoveis/alugo-casa-na-iputinga-poucos-metros-da-av-caxanga-1353033132"
          ],
          [
           "Kitnet para Alugar no Engenho do Meio",
           "R$ 650",
           "https://pe.olx.com.br/grande-recife/imoveis/kitnet-para-alugar-no-engenho-do-meio-1352787073"
          ],
          [
           "Alugam-se kit nets em Recife",
           "R$ 350",
           "https://pe.olx.com.br/grande-recife/imoveis/alugam-se-kit-nets-em-recife-1352784264"
          ],
          [
           "aluga apartamento ",
           "R$ 900",
           "https://pe.olx.com.br/grande-recife/imoveis/aluga-apartamento-1355042983"
          ],
          [
           "Casa no cordeiro",
           "R$ 600",
           "https://pe.olx.com.br/grande-recife/imoveis/casa-no-cordeiro-1352610798"
          ],
          [
           "Casa para alugar ",
           "R$ 650",
           "https://pe.olx.com.br/grande-recife/imoveis/casa-para-alugar-1352372827"
          ],
          [
           "Kitnet na Várzea",
           "R$ 600",
           "https://pe.olx.com.br/grande-recife/imoveis/kitnet-na-varzea-1352305544"
          ],
          [
           "Alugo loft , apartamento, casa",
           "R$ 850",
           "https://pe.olx.com.br/grande-recife/imoveis/alugo-loft-apartamento-casa-1321254473"
          ],
          [
           "Apartamento 01 quarto no Cordeiro/Iputinga/Caxangá",
           "R$ 900",
           "https://pe.olx.com.br/grande-recife/imoveis/apartamento-01-quarto-no-cordeiro-iputinga-caxanga-1326792696"
          ],
          [
           "Alugo Ap. 1 quarto no Cordeiro/Caxangá/Iputinga",
           "R$ 900",
           "https://pe.olx.com.br/grande-recife/imoveis/alugo-ap-1-quarto-no-cordeiro-caxanga-iputinga-1352234686"
          ],
          [
           "Casa no Cordeiro ",
           "R$ 500",
           "https://pe.olx.com.br/grande-recife/imoveis/casa-no-cordeiro-1352223547"
          ],
          [
           "Casa na torre/ vila Santa luzia ",
           "R$ 700",
           "https://pe.olx.com.br/grande-recife/imoveis/casa-na-torre-vila-santa-luzia-1352102357"
          ],
          [
           "Loft 2 aluguel por diária no Derby.",
           "R$ 150",
           "https://pe.olx.com.br/grande-recife/imoveis/loft-2-aluguel-por-diaria-no-derby-1352036931"
          ],
          [
           "Casa aconchegante com 2 quartos ",
           "R$ 800",
           "https://pe.olx.com.br/grande-recife/imoveis/casa-aconchegante-com-2-quartos-1351918067"
          ],
          [
           "Aluguel de quarto na Torre- Recife (somente para meninas)",
           "R$ 666",
           "https://pe.olx.com.br/grande-recife/imoveis/aluguel-de-quarto-na-torre-recife-somente-para-meninas-1351699611"
          ],
          [
           "Aluguel kinet na várzea ",
           "R$ 470",
           "https://pe.olx.com.br/grande-recife/imoveis/aluguel-kinet-na-varzea-1351675886"
          ],
          [
           "Quarto com banheiro para meninas",
           "R$ 502",
           "https://pe.olx.com.br/grande-recife/imoveis/quarto-com-banheiro-para-meninas-1351373051"
          ],
          [
           "Aluga-se um Kitnet próx a UFPE",
           "R$ 780",
           "https://pe.olx.com.br/grande-recife/imoveis/aluga-se-um-kitnet-prox-a-ufpe-1350624460"
          ],
          [
           "Republica para estudantes próximo a UFPE",
           "R$ 500",
           "https://pe.olx.com.br/grande-recife/imoveis/republica-para-estudantes-proximo-a-ufpe-1350429778"
          ],
          [
           "Quarto privativo em casa compartilhada. Perto da FASUP",
           "R$ 600",
           "https://pe.olx.com.br/grande-recife/imoveis/quarto-privativo-em-casa-compartilhada-perto-da-fasup-1349965285"
          ],
          [
           "Aluguel quarto na várzea ",
           "R$ 400",
           "https://pe.olx.com.br/grande-recife/imoveis/aluguel-quarto-na-varzea-1349918930"
          ],
          [
           "ALUGO QUARTO EM AP MOBILIADO",
           "R$ 900",
           "https://pe.olx.com.br/grande-recife/imoveis/alugo-quarto-em-ap-mobiliado-1349867065"
          ],
          [
           "Alugo casa na Iputiga",
           "R$ 700",
           "https://pe.olx.com.br/grande-recife/imoveis/alugo-casa-na-iputiga-1349805656"
          ],
          [
           "Pensionato estudantil UFPE",
           "R$ 600",
           "https://pe.olx.com.br/grande-recife/imoveis/pensionato-estudantil-ufpe-1349788965"
          ],
          [
           "Kitnet Para Alugar",
           "R$ 850",
           "https://pe.olx.com.br/grande-recife/imoveis/kitnet-para-alugar-1349724790"
          ],
          [
           "CASA PRA ALUGAR NA VÁRZEA/CDU",
           "R$ 700",
           "https://pe.olx.com.br/grande-recife/imoveis/casa-pra-alugar-na-varzea-cdu-1349721740"
          ],
          [
           "1 quarto em prédio novinho, próximo ao Jockey!",
           "R$ 850",
           "https://pe.olx.com.br/grande-recife/imoveis/1-quarto-em-predio-novinho-proximo-ao-jockey-1349668444"
          ],
          [
           "Quarto mobiliado ",
           "R$ 550",
           "https://pe.olx.com.br/grande-recife/imoveis/quarto-mobiliado-1349391953"
          ],
          [
           "Loft Derby, diaria",
           "R$ 150",
           "https://pe.olx.com.br/grande-recife/imoveis/loft-derby-diaria-1349366539"
          ],
          [
           "Aluga se casa parte de cima na caxangar nova morada",
           "R$ 700",
           "https://pe.olx.com.br/grande-recife/imoveis/aluga-se-casa-parte-de-cima-na-caxangar-nova-morada-1336813862"
          ],
          [
           "Casa para alugar, recém reformada",
           "R$ 600",
           "https://pe.olx.com.br/grande-recife/imoveis/casa-para-alugar-recem-reformada-1350713749"
          ],
          [
           "Alugo Kitnet  próx. A Reitoria da UFPE(ENGENHO DO MEIO).",
           "R$ 700",
           "https://pe.olx.com.br/grande-recife/imoveis/alugo-kitnet-prox-a-reitoria-da-ufpe-engenho-do-meio-1339752285"
          ],
          [
           "Quartos para estudantes ou pessoas que trabalha em Recife .",
           "R$ 400",
           "https://pe.olx.com.br/grande-recife/imoveis/quartos-para-estudantes-ou-pessoas-que-trabalha-em-recife-1347433153"
          ],
          [
           "APARTAMENTO NO CORDEIRO, BONGI",
           "R$ 850",
           "https://pe.olx.com.br/grande-recife/imoveis/apartamento-no-cordeiro-bongi-1349005680"
          ],
          [
           "LOCAÇÃO - APARTAMENTO 01 QUARTO NA IPUTINGA",
           "R$ 730",
           "https://pe.olx.com.br/grande-recife/imoveis/locacao-apartamento-01-quarto-na-iputinga-1346582643"
          ],
          [
           "Vende-se um Excelente Apartamento Portal de são Lourenço.",
           "R$ 600",
           "https://pe.olx.com.br/grande-recife/imoveis/vende-se-um-excelente-apartamento-portal-de-sao-lourenco-1346496132"
          ],
          [
           "Alugo apto em Rio doce",
           "R$ 500",
           "https://pe.olx.com.br/grande-recife/imoveis/alugo-apto-em-rio-doce-1346415505"
          ],
          [
           "Quarto individual para estudante mulher em casa compartilhada a 10 minutos à pé da UFPE ",
           "R$ 600",
           "https://pe.olx.com.br/grande-recife/imoveis/quarto-individual-para-estudante-mulher-em-casa-compartilhada-a-10-minutos-a-pe-da-ufpe-1346163339"
          ],
          [
           "Casa para estudante - Várzea",
           "R$ 799",
           "https://pe.olx.com.br/grande-recife/imoveis/casa-para-estudante-varzea-1346149619"
          ],
          [
           "Vaga para meninas em apartamento universitário ",
           "R$ 434",
           "https://pe.olx.com.br/grande-recife/imoveis/vaga-para-meninas-em-apartamento-universitario-1346102943"
          ],
          [
           "Kitnet com ou sem móveis no bairro do Cordeiro.",
           "R$ 600",
           "https://pe.olx.com.br/grande-recife/imoveis/kitnet-com-ou-sem-moveis-no-bairro-do-cordeiro-1346049210"
          ],
          [
           "Casa Apipucos Aluga-se",
           "R$ 1.000",
           "https://pe.olx.com.br/grande-recife/imoveis/casa-apipucos-aluga-se-1323084775"
          ],
          [
           "EstrelaFlat110",
           "R$ 240",
           "https://pe.olx.com.br/grande-recife/imoveis/estrelaflat110-1345698779"
          ],
          [
           "Alugase quartos para solteiros por temporada...",
           "R$ 600",
           "https://pe.olx.com.br/grande-recife/imoveis/alugase-quartos-para-solteiros-por-temporada-1329915150"
          ],
          [
           "Alugo kitnet ",
           "R$ 650",
           "https://pe.olx.com.br/grande-recife/imoveis/alugo-kitnet-1345547390"
          ],
          [
           "Casa pra alugar torrões",
           "R$ 600",
           "https://pe.olx.com.br/grande-recife/imoveis/casa-pra-alugar-torroes-1345464671"
          ],
          [
           "Kitnet ",
           "R$ 500",
           "https://pe.olx.com.br/grande-recife/imoveis/kitnet-1345366325"
          ],
          [
           "Kitnets para alugar ",
           "R$ 330",
           "https://pe.olx.com.br/grande-recife/imoveis/kitnets-para-alugar-1345199525"
          ],
          [
           "Aproveite kitnet na Várzea, Jardim Petrópolis",
           "R$ 400",
           "https://pe.olx.com.br/grande-recife/imoveis/aproveite-kitnet-na-varzea-jardim-petropolis-1324426993"
          ],
          [
           "Alugo quarto para mulheres",
           "R$ 800",
           "https://pe.olx.com.br/grande-recife/imoveis/alugo-quarto-para-mulheres-1344797898"
          ],
          [
           "Alugo 1  quarto Feminino",
           "R$ 600",
           "https://pe.olx.com.br/grande-recife/imoveis/alugo-1-quarto-feminino-1344765155"
          ],
          [
           "casa para alugar",
           "R$ 500",
           "https://pe.olx.com.br/grande-recife/imoveis/casa-para-alugar-1344639867"
          ],
          [
           "Casa para Alugar - Oportunidade Imperdível!",
           "R$ 700",
           "https://pe.olx.com.br/grande-recife/imoveis/casa-para-alugar-oportunidade-imperdivel-1342967078"
          ],
          [
           "Casa Ponta de Serrambi 5 Quartos",
           "R$ 800",
           "https://pe.olx.com.br/grande-recife/imoveis/casa-ponta-de-serrambi-5-quartos-1322649810"
          ],
          [
           "Aluguel de casa no Cordeiro ",
           "R$ 700",
           "https://pe.olx.com.br/grande-recife/imoveis/aluguel-de-casa-no-cordeiro-1344074036"
          ],
          [
           "A casa fica localizada  em um condomínio  de frente  ao campo de passarinho",
           "R$ 600",
           "https://pe.olx.com.br/grande-recife/imoveis/a-casa-fica-localizada-em-um-condominio-de-frente-ao-campo-de-passarinho-1344050147"
          ],
          [
           "Alugo kitnet ",
           "R$ 550",
           "https://pe.olx.com.br/grande-recife/imoveis/alugo-kitnet-1343870588"
          ],
          [
           "Aluga-se Kitnet (Flat/Studio) *INDISPONÍVEL*",
           "R$ 780",
           "https://pe.olx.com.br/grande-recife/imoveis/aluga-se-kitnet-flat-studio-indisponivel-1343782183"
          ],
          [
           "Kitnet para moças , no coração do Cordeiro.",
           "R$ 700",
           "https://pe.olx.com.br/grande-recife/imoveis/kitnet-para-mocas-no-coracao-do-cordeiro-1343734614"
          ],
          [
           "Sala comercial próximo UFPE",
           "R$ 800",
           "https://pe.olx.com.br/grande-recife/imoveis/sala-comercial-proximo-ufpe-1342005902"
          ],
          [
           "Aluguel de quarto na Torre",
           "R$ 750",
           "https://pe.olx.com.br/grande-recife/imoveis/aluguel-de-quarto-na-torre-1343585739"
          ],
          [
           "Kitnet cidade universitária ",
           "R$ 950",
           "https://pe.olx.com.br/grande-recife/imoveis/kitnet-cidade-universitaria-1343072656"
          ],
          [
           "aluga se apartamento na várzea ",
           "R$ 700",
           "https://pe.olx.com.br/grande-recife/imoveis/aluga-se-apartamento-na-varzea-1342912612"
          ],
          [
           "FLAT ao lado da UFPE *R$  870,00 * Em frente ao DEPT de FARMÁCIA UFPE",
           "R$ 870",
           "https://pe.olx.com.br/grande-recife/imoveis/flat-ao-lado-da-ufpe-r-870-00-em-frente-ao-dept-de-farmacia-ufpe-1076243263"
          ],
          [
           "Ap 1 quarto na ur7, 1? andar, sem garagem",
           "R$ 650",
           "https://pe.olx.com.br/grande-recife/imoveis/ap-1-quarto-na-ur7-1-andar-sem-garagem-1342573375"
          ],
          [
           "Alugasse quarto um vão só",
           "R$ 400",
           "https://pe.olx.com.br/grande-recife/imoveis/alugasse-quarto-um-vao-so-1342296773"
          ],
          [
           "Casa em Condomínio Fechado com Piscina e Área Gourmet",
           "R$ 650",
           "https://pe.olx.com.br/grande-recife/imoveis/casa-em-condominio-fechado-com-piscina-e-area-gourmet-1341920998"
          ],
          [
           "Vagas em apartamento na Torre para mulheres",
           "R$ 950",
           "https://pe.olx.com.br/grande-recife/imoveis/vagas-em-apartamento-na-torre-para-mulheres-1341138742"
          ],
          [
           "Alugo casa em itamaracá ",
           "R$ 950",
           "https://pe.olx.com.br/grande-recife/imoveis/alugo-casa-em-itamaraca-1341048336"
          ],
          [
           "Ponto pra alugar ",
           "R$ 400",
           "https://pe.olx.com.br/grande-recife/imoveis/ponto-pra-alugar-1340790521"
          ],
          [
           "Imóvel para aluguel c/51 M² com 2 quartos em Várzea - Recife - PE",
           "R$ 800",
           "https://pe.olx.com.br/grande-recife/imoveis/imovel-para-aluguel-c-51-m-com-2-quartos-em-varzea-recife-pe-1340495022"
          ],
          [
           "Quarto estudantil para alugar na Cidade Universitária",
           "R$ 600",
           "https://pe.olx.com.br/grande-recife/imoveis/quarto-estudantil-para-alugar-na-cidade-universitaria-1340007016"
          ],
          [
           "Kit Cozinha Completo - Fogão, Pia e Refrigerador",
           "R$ 950",
           "https://pe.olx.com.br/grande-recife/imoveis/kit-cozinha-completo-fogao-pia-e-refrigerador-1339877816"
          ],
          [
           "Quarto em Apto Na Polidoro Próx a UFPE ( Tudo Incluso )",
           "R$ 350",
           "https://pe.olx.com.br/grande-recife/imoveis/quarto-em-apto-na-polidoro-prox-a-ufpe-tudo-incluso-1317178468"
          ],
          [
           "Kitnet bem localizado ",
           "R$ 550",
           "https://pe.olx.com.br/grande-recife/imoveis/kitnet-bem-localizado-1339664378"
          ],
          [
           "Ketnet ",
           "R$ 450",
           "https://pe.olx.com.br/grande-recife/imoveis/ketnet-1341355604"
          ],
          [
           "Casa pra alugar ",
           "R$ 650",
           "https://pe.olx.com.br/grande-recife/imoveis/casa-pra-alugar-1339278014"
          ],
          [
           "Casa de vila para aluguel com 40 mts² com 2 quartos no Cordeiro - Recife .",
           "R$ 650",
           "https://pe.olx.com.br/grande-recife/imoveis/casa-de-vila-para-aluguel-com-40-mts-com-2-quartos-no-cordeiro-recife-1293934549"
          ],
          [
           "Apartamento para aluguel, 1 quarto, 1 vaga, Cordeiro - Recife/PE",
           "R$ 880",
           "https://pe.olx.com.br/grande-recife/imoveis/apartamento-para-aluguel-1-quarto-1-vaga-cordeiro-recife-pe-1282369079"
          ]
         ],
         "hovertemplate": "<b>%{hovertext}</b><br><br>lat=%{lat}<br>lng=%{lon}<br>title=%{customdata[0]}<br>price=%{customdata[1]}<br>url=%{customdata[2]}<extra></extra>",
         "hovertext": [
          "Alugo casa estilo kitnet ",
          "PENSIONATO CIDADE UNIVERSITÁRIA - UFPE",
          "Quarto privativo - Madalena",
          "Quarto individual Masculino",
          "Casa em ótima localização, próximo ao centro!",
          "Casa próximo a ufpe 600mts ",
          "Casa para Alugar - Próximo ao Centro",
          "Salas Aluguel Cidade Universitária Várzea",
          "Aluguel de casa",
          "Kitnet  na caxangá",
          "Aluga-se apartamento ",
          "Quarto em apto Compartilhado",
          "Quartos individuais para alunas de mestrado e doutorado próximo a UFPE",
          "Loft Derby",
          "Aluga-se um kitnet ",
          "kitnet próximo a UFPE na Várzea - Recife - PE",
          "Aluga-se Quarto mobiliado ao lado da UFPE - Vaga para mulheres ",
          "Aluga vaga de quarto na Várzea próximo UFPE e CAXANGÁ",
          "Casa super grande em Dois unidos ",
          "Aluguel Flat/Kitnet na Várzea!",
          "Quarto para alugar no Cordeiro ",
          "Aluga-se quarto  para estudantes e sala comercial, próximo a UFPE",
          "Kitnet mobiliado em jardim Petrópolis na várzea ",
          "Kitnet Individual para Estudante UFPE",
          "Casa na Várzea ",
          "Vendo ou alugo",
          "Casa com Sala Ampla",
          "KITINETE * EM FRENTE  ao CFCH * UFPE  **** APT com 2 quartos próximo do HC UFPE",
          "Apartamento compartilhado. ",
          "Alugo Kitnet e outros imóveis próximos da UFPE",
          "Apartamento para Alugar",
          "Aluga-se casa com dois quartos, banheiro, cozinha americana.",
          "Alugo casa na Iputinga poucos metros da av. Caxangá ",
          "Kitnet para Alugar no Engenho do Meio",
          "Alugam-se kit nets em Recife",
          "aluga apartamento ",
          "Casa no cordeiro",
          "Casa para alugar ",
          "Kitnet na Várzea",
          "Alugo loft , apartamento, casa",
          "Apartamento 01 quarto no Cordeiro/Iputinga/Caxangá",
          "Alugo Ap. 1 quarto no Cordeiro/Caxangá/Iputinga",
          "Casa no Cordeiro ",
          "Casa na torre/ vila Santa luzia ",
          "Loft 2 aluguel por diária no Derby.",
          "Casa aconchegante com 2 quartos ",
          "Aluguel de quarto na Torre- Recife (somente para meninas)",
          "Aluguel kinet na várzea ",
          "Quarto com banheiro para meninas",
          "Aluga-se um Kitnet próx a UFPE",
          "Republica para estudantes próximo a UFPE",
          "Quarto privativo em casa compartilhada. Perto da FASUP",
          "Aluguel quarto na várzea ",
          "ALUGO QUARTO EM AP MOBILIADO",
          "Alugo casa na Iputiga",
          "Pensionato estudantil UFPE",
          "Kitnet Para Alugar",
          "CASA PRA ALUGAR NA VÁRZEA/CDU",
          "1 quarto em prédio novinho, próximo ao Jockey!",
          "Quarto mobiliado ",
          "Loft Derby, diaria",
          "Aluga se casa parte de cima na caxangar nova morada",
          "Casa para alugar, recém reformada",
          "Alugo Kitnet  próx. A Reitoria da UFPE(ENGENHO DO MEIO).",
          "Quartos para estudantes ou pessoas que trabalha em Recife .",
          "APARTAMENTO NO CORDEIRO, BONGI",
          "LOCAÇÃO - APARTAMENTO 01 QUARTO NA IPUTINGA",
          "Vende-se um Excelente Apartamento Portal de são Lourenço.",
          "Alugo apto em Rio doce",
          "Quarto individual para estudante mulher em casa compartilhada a 10 minutos à pé da UFPE ",
          "Casa para estudante - Várzea",
          "Vaga para meninas em apartamento universitário ",
          "Kitnet com ou sem móveis no bairro do Cordeiro.",
          "Casa Apipucos Aluga-se",
          "EstrelaFlat110",
          "Alugase quartos para solteiros por temporada...",
          "Alugo kitnet ",
          "Casa pra alugar torrões",
          "Kitnet ",
          "Kitnets para alugar ",
          "Aproveite kitnet na Várzea, Jardim Petrópolis",
          "Alugo quarto para mulheres",
          "Alugo 1  quarto Feminino",
          "casa para alugar",
          "Casa para Alugar - Oportunidade Imperdível!",
          "Casa Ponta de Serrambi 5 Quartos",
          "Aluguel de casa no Cordeiro ",
          "A casa fica localizada  em um condomínio  de frente  ao campo de passarinho",
          "Alugo kitnet ",
          "Aluga-se Kitnet (Flat/Studio) *INDISPONÍVEL*",
          "Kitnet para moças , no coração do Cordeiro.",
          "Sala comercial próximo UFPE",
          "Aluguel de quarto na Torre",
          "Kitnet cidade universitária ",
          "aluga se apartamento na várzea ",
          "FLAT ao lado da UFPE *R$  870,00 * Em frente ao DEPT de FARMÁCIA UFPE",
          "Ap 1 quarto na ur7, 1? andar, sem garagem",
          "Alugasse quarto um vão só",
          "Casa em Condomínio Fechado com Piscina e Área Gourmet",
          "Vagas em apartamento na Torre para mulheres",
          "Alugo casa em itamaracá ",
          "Ponto pra alugar ",
          "Imóvel para aluguel c/51 M² com 2 quartos em Várzea - Recife - PE",
          "Quarto estudantil para alugar na Cidade Universitária",
          "Kit Cozinha Completo - Fogão, Pia e Refrigerador",
          "Quarto em Apto Na Polidoro Próx a UFPE ( Tudo Incluso )",
          "Kitnet bem localizado ",
          "Ketnet ",
          "Casa pra alugar ",
          "Casa de vila para aluguel com 40 mts² com 2 quartos no Cordeiro - Recife .",
          "Apartamento para aluguel, 1 quarto, 1 vaga, Cordeiro - Recife/PE"
         ],
         "lat": [
          -8.03761205,
          -8.0455847,
          -8.057334,
          -8.0403065,
          -8.034775,
          -8.0148472,
          -8.0425462,
          -8.06667,
          -8.0554462,
          -8.042791,
          -8.0472249,
          -8.0486852,
          -8.0488251,
          -8.0570025,
          -8.0325201,
          -8.0383139,
          -8.0524366,
          -8.0375278,
          -7.991121,
          -8.0321643,
          -8.048964,
          -8.0373588,
          -8.0381959,
          -8.0532678,
          -8.0332776,
          -11.009881,
          -22.478753,
          -8.0463426,
          -8.0543104,
          -8.0463426,
          -8.0494684,
          -8.056377,
          -8.0398298,
          -8.0546028,
          -8.0558157,
          -8.0480502,
          -8.053444,
          -8.0550883,
          -8.0332776,
          -8.0589575,
          -8.0427673,
          -8.0427673,
          -8.0552739,
          -23.4575288,
          -8.0570025,
          -8.0551346,
          -22.8703133,
          -8.0384222,
          -8.0578688,
          -8.0059656,
          -8.054157,
          -8.0587836,
          -8.0423004,
          -8.0546303,
          -8.0401903,
          -8.0455847,
          -22.8971933,
          -8.0562238,
          -8.0573814,
          -8.0321643,
          -8.0570025,
          -8.0215114,
          -8.0232572,
          -8.0563566,
          -8.0629303,
          -8.0589575,
          -8.0373592,
          -8.0232572,
          -8.0350183,
          -8.0562238,
          -8.0437033,
          -8.0464936,
          -8.0602987,
          -8.055802,
          -8.057334,
          -23.6208095,
          -8.0562443,
          -8.065118,
          -8.0238191,
          -11.009881,
          -8.0382038,
          -22.377077,
          -8.022673,
          -8.0478533,
          -8.0463426,
          -8.0523679,
          -8.0459986,
          -7.9796402,
          -8.042791,
          -8.0473952,
          -8.0453639,
          -8.0496718,
          -28.220271,
          -8.0373588,
          -8.0422408,
          -8.055802,
          -8.0374839,
          -8.0382038,
          -8.0428561,
          -8.055802,
          -8.049707,
          -8.0368711,
          -8.0321643,
          -8.0148472,
          -8.0442312,
          -8.0384222,
          -8.0559888,
          -8.0514716,
          -8.0428561,
          -8.0542571,
          -8.0521195
         ],
         "legendgroup": "",
         "lon": [
          -34.954087425,
          -34.9478451,
          -34.9059977,
          -34.9501129,
          -34.9824307,
          -34.9238903,
          -34.9355396,
          -34.95,
          -34.9376973,
          -34.929521,
          -34.9232087,
          -34.9556343,
          -34.9551351,
          -34.904007,
          -34.9568051,
          -34.9476699,
          -34.9391165,
          -34.9526308,
          -34.920644,
          -34.9592364,
          -34.920872,
          -34.9456277,
          -34.9666566,
          -34.9431024,
          -34.9552448,
          -41.892123,
          -44.45934,
          -34.9559658,
          -34.912018,
          -34.9559658,
          -34.9197342,
          -34.939751,
          -34.9380784,
          -34.9427898,
          -34.9145736,
          -34.9582279,
          -34.92977,
          -34.9367558,
          -34.9552448,
          -34.9208872,
          -34.9304204,
          -34.9304204,
          -34.9226611,
          -46.5033936,
          -34.904007,
          -34.9313925,
          -43.4066793,
          -34.945364,
          -34.9108693,
          -34.9312478,
          -34.9455465,
          -34.9458963,
          -34.9477807,
          -34.928864,
          -34.9324199,
          -34.9478451,
          -43.1919463,
          -34.9589319,
          -34.9132019,
          -34.9592364,
          -34.904007,
          -34.9517423,
          -34.9506925,
          -34.9459553,
          -34.9421816,
          -34.9208872,
          -34.9321246,
          -34.9506925,
          -34.9412013,
          -34.9589319,
          -34.9523116,
          -34.9236637,
          -34.9256774,
          -34.921399,
          -34.9059977,
          -46.7168085,
          -34.9249131,
          -34.933476,
          -34.947507,
          -41.892123,
          -34.9630518,
          -41.7855375,
          -34.928116,
          -34.9429345,
          -34.9559658,
          -34.9075562,
          -34.9200064,
          -34.9173208,
          -34.929521,
          -34.9429101,
          -34.9191105,
          -34.9546585,
          -48.707366,
          -34.9456277,
          -34.9461573,
          -34.921399,
          -34.9770384,
          -34.9630518,
          -34.9118451,
          -34.921399,
          -34.941857,
          -34.9288973,
          -34.9592364,
          -34.9238903,
          -34.9495443,
          -34.945364,
          -34.9219378,
          -34.9356308,
          -34.9118451,
          -34.9363085,
          -34.9260977
         ],
         "marker": {
          "color": "fuchsia"
         },
         "mode": "markers",
         "name": "",
         "showlegend": false,
         "subplot": "mapbox",
         "type": "scattermapbox"
        }
       ],
       "layout": {
        "height": 300,
        "legend": {
         "tracegroupgap": 0
        },
        "mapbox": {
         "center": {
          "lat": -9.085285612162162,
          "lon": -35.695185034459456
         },
         "domain": {
          "x": [
           0,
           1
          ],
          "y": [
           0,
           1
          ]
         },
         "style": "open-street-map",
         "zoom": 3
        },
        "margin": {
         "t": 60
        },
        "template": {
         "data": {
          "bar": [
           {
            "error_x": {
             "color": "#2a3f5f"
            },
            "error_y": {
             "color": "#2a3f5f"
            },
            "marker": {
             "line": {
              "color": "#E5ECF6",
              "width": 0.5
             },
             "pattern": {
              "fillmode": "overlay",
              "size": 10,
              "solidity": 0.2
             }
            },
            "type": "bar"
           }
          ],
          "barpolar": [
           {
            "marker": {
             "line": {
              "color": "#E5ECF6",
              "width": 0.5
             },
             "pattern": {
              "fillmode": "overlay",
              "size": 10,
              "solidity": 0.2
             }
            },
            "type": "barpolar"
           }
          ],
          "carpet": [
           {
            "aaxis": {
             "endlinecolor": "#2a3f5f",
             "gridcolor": "white",
             "linecolor": "white",
             "minorgridcolor": "white",
             "startlinecolor": "#2a3f5f"
            },
            "baxis": {
             "endlinecolor": "#2a3f5f",
             "gridcolor": "white",
             "linecolor": "white",
             "minorgridcolor": "white",
             "startlinecolor": "#2a3f5f"
            },
            "type": "carpet"
           }
          ],
          "choropleth": [
           {
            "colorbar": {
             "outlinewidth": 0,
             "ticks": ""
            },
            "type": "choropleth"
           }
          ],
          "contour": [
           {
            "colorbar": {
             "outlinewidth": 0,
             "ticks": ""
            },
            "colorscale": [
             [
              0,
              "#0d0887"
             ],
             [
              0.1111111111111111,
              "#46039f"
             ],
             [
              0.2222222222222222,
              "#7201a8"
             ],
             [
              0.3333333333333333,
              "#9c179e"
             ],
             [
              0.4444444444444444,
              "#bd3786"
             ],
             [
              0.5555555555555556,
              "#d8576b"
             ],
             [
              0.6666666666666666,
              "#ed7953"
             ],
             [
              0.7777777777777778,
              "#fb9f3a"
             ],
             [
              0.8888888888888888,
              "#fdca26"
             ],
             [
              1,
              "#f0f921"
             ]
            ],
            "type": "contour"
           }
          ],
          "contourcarpet": [
           {
            "colorbar": {
             "outlinewidth": 0,
             "ticks": ""
            },
            "type": "contourcarpet"
           }
          ],
          "heatmap": [
           {
            "colorbar": {
             "outlinewidth": 0,
             "ticks": ""
            },
            "colorscale": [
             [
              0,
              "#0d0887"
             ],
             [
              0.1111111111111111,
              "#46039f"
             ],
             [
              0.2222222222222222,
              "#7201a8"
             ],
             [
              0.3333333333333333,
              "#9c179e"
             ],
             [
              0.4444444444444444,
              "#bd3786"
             ],
             [
              0.5555555555555556,
              "#d8576b"
             ],
             [
              0.6666666666666666,
              "#ed7953"
             ],
             [
              0.7777777777777778,
              "#fb9f3a"
             ],
             [
              0.8888888888888888,
              "#fdca26"
             ],
             [
              1,
              "#f0f921"
             ]
            ],
            "type": "heatmap"
           }
          ],
          "heatmapgl": [
           {
            "colorbar": {
             "outlinewidth": 0,
             "ticks": ""
            },
            "colorscale": [
             [
              0,
              "#0d0887"
             ],
             [
              0.1111111111111111,
              "#46039f"
             ],
             [
              0.2222222222222222,
              "#7201a8"
             ],
             [
              0.3333333333333333,
              "#9c179e"
             ],
             [
              0.4444444444444444,
              "#bd3786"
             ],
             [
              0.5555555555555556,
              "#d8576b"
             ],
             [
              0.6666666666666666,
              "#ed7953"
             ],
             [
              0.7777777777777778,
              "#fb9f3a"
             ],
             [
              0.8888888888888888,
              "#fdca26"
             ],
             [
              1,
              "#f0f921"
             ]
            ],
            "type": "heatmapgl"
           }
          ],
          "histogram": [
           {
            "marker": {
             "pattern": {
              "fillmode": "overlay",
              "size": 10,
              "solidity": 0.2
             }
            },
            "type": "histogram"
           }
          ],
          "histogram2d": [
           {
            "colorbar": {
             "outlinewidth": 0,
             "ticks": ""
            },
            "colorscale": [
             [
              0,
              "#0d0887"
             ],
             [
              0.1111111111111111,
              "#46039f"
             ],
             [
              0.2222222222222222,
              "#7201a8"
             ],
             [
              0.3333333333333333,
              "#9c179e"
             ],
             [
              0.4444444444444444,
              "#bd3786"
             ],
             [
              0.5555555555555556,
              "#d8576b"
             ],
             [
              0.6666666666666666,
              "#ed7953"
             ],
             [
              0.7777777777777778,
              "#fb9f3a"
             ],
             [
              0.8888888888888888,
              "#fdca26"
             ],
             [
              1,
              "#f0f921"
             ]
            ],
            "type": "histogram2d"
           }
          ],
          "histogram2dcontour": [
           {
            "colorbar": {
             "outlinewidth": 0,
             "ticks": ""
            },
            "colorscale": [
             [
              0,
              "#0d0887"
             ],
             [
              0.1111111111111111,
              "#46039f"
             ],
             [
              0.2222222222222222,
              "#7201a8"
             ],
             [
              0.3333333333333333,
              "#9c179e"
             ],
             [
              0.4444444444444444,
              "#bd3786"
             ],
             [
              0.5555555555555556,
              "#d8576b"
             ],
             [
              0.6666666666666666,
              "#ed7953"
             ],
             [
              0.7777777777777778,
              "#fb9f3a"
             ],
             [
              0.8888888888888888,
              "#fdca26"
             ],
             [
              1,
              "#f0f921"
             ]
            ],
            "type": "histogram2dcontour"
           }
          ],
          "mesh3d": [
           {
            "colorbar": {
             "outlinewidth": 0,
             "ticks": ""
            },
            "type": "mesh3d"
           }
          ],
          "parcoords": [
           {
            "line": {
             "colorbar": {
              "outlinewidth": 0,
              "ticks": ""
             }
            },
            "type": "parcoords"
           }
          ],
          "pie": [
           {
            "automargin": true,
            "type": "pie"
           }
          ],
          "scatter": [
           {
            "fillpattern": {
             "fillmode": "overlay",
             "size": 10,
             "solidity": 0.2
            },
            "type": "scatter"
           }
          ],
          "scatter3d": [
           {
            "line": {
             "colorbar": {
              "outlinewidth": 0,
              "ticks": ""
             }
            },
            "marker": {
             "colorbar": {
              "outlinewidth": 0,
              "ticks": ""
             }
            },
            "type": "scatter3d"
           }
          ],
          "scattercarpet": [
           {
            "marker": {
             "colorbar": {
              "outlinewidth": 0,
              "ticks": ""
             }
            },
            "type": "scattercarpet"
           }
          ],
          "scattergeo": [
           {
            "marker": {
             "colorbar": {
              "outlinewidth": 0,
              "ticks": ""
             }
            },
            "type": "scattergeo"
           }
          ],
          "scattergl": [
           {
            "marker": {
             "colorbar": {
              "outlinewidth": 0,
              "ticks": ""
             }
            },
            "type": "scattergl"
           }
          ],
          "scattermapbox": [
           {
            "marker": {
             "colorbar": {
              "outlinewidth": 0,
              "ticks": ""
             }
            },
            "type": "scattermapbox"
           }
          ],
          "scatterpolar": [
           {
            "marker": {
             "colorbar": {
              "outlinewidth": 0,
              "ticks": ""
             }
            },
            "type": "scatterpolar"
           }
          ],
          "scatterpolargl": [
           {
            "marker": {
             "colorbar": {
              "outlinewidth": 0,
              "ticks": ""
             }
            },
            "type": "scatterpolargl"
           }
          ],
          "scatterternary": [
           {
            "marker": {
             "colorbar": {
              "outlinewidth": 0,
              "ticks": ""
             }
            },
            "type": "scatterternary"
           }
          ],
          "surface": [
           {
            "colorbar": {
             "outlinewidth": 0,
             "ticks": ""
            },
            "colorscale": [
             [
              0,
              "#0d0887"
             ],
             [
              0.1111111111111111,
              "#46039f"
             ],
             [
              0.2222222222222222,
              "#7201a8"
             ],
             [
              0.3333333333333333,
              "#9c179e"
             ],
             [
              0.4444444444444444,
              "#bd3786"
             ],
             [
              0.5555555555555556,
              "#d8576b"
             ],
             [
              0.6666666666666666,
              "#ed7953"
             ],
             [
              0.7777777777777778,
              "#fb9f3a"
             ],
             [
              0.8888888888888888,
              "#fdca26"
             ],
             [
              1,
              "#f0f921"
             ]
            ],
            "type": "surface"
           }
          ],
          "table": [
           {
            "cells": {
             "fill": {
              "color": "#EBF0F8"
             },
             "line": {
              "color": "white"
             }
            },
            "header": {
             "fill": {
              "color": "#C8D4E3"
             },
             "line": {
              "color": "white"
             }
            },
            "type": "table"
           }
          ]
         },
         "layout": {
          "annotationdefaults": {
           "arrowcolor": "#2a3f5f",
           "arrowhead": 0,
           "arrowwidth": 1
          },
          "autotypenumbers": "strict",
          "coloraxis": {
           "colorbar": {
            "outlinewidth": 0,
            "ticks": ""
           }
          },
          "colorscale": {
           "diverging": [
            [
             0,
             "#8e0152"
            ],
            [
             0.1,
             "#c51b7d"
            ],
            [
             0.2,
             "#de77ae"
            ],
            [
             0.3,
             "#f1b6da"
            ],
            [
             0.4,
             "#fde0ef"
            ],
            [
             0.5,
             "#f7f7f7"
            ],
            [
             0.6,
             "#e6f5d0"
            ],
            [
             0.7,
             "#b8e186"
            ],
            [
             0.8,
             "#7fbc41"
            ],
            [
             0.9,
             "#4d9221"
            ],
            [
             1,
             "#276419"
            ]
           ],
           "sequential": [
            [
             0,
             "#0d0887"
            ],
            [
             0.1111111111111111,
             "#46039f"
            ],
            [
             0.2222222222222222,
             "#7201a8"
            ],
            [
             0.3333333333333333,
             "#9c179e"
            ],
            [
             0.4444444444444444,
             "#bd3786"
            ],
            [
             0.5555555555555556,
             "#d8576b"
            ],
            [
             0.6666666666666666,
             "#ed7953"
            ],
            [
             0.7777777777777778,
             "#fb9f3a"
            ],
            [
             0.8888888888888888,
             "#fdca26"
            ],
            [
             1,
             "#f0f921"
            ]
           ],
           "sequentialminus": [
            [
             0,
             "#0d0887"
            ],
            [
             0.1111111111111111,
             "#46039f"
            ],
            [
             0.2222222222222222,
             "#7201a8"
            ],
            [
             0.3333333333333333,
             "#9c179e"
            ],
            [
             0.4444444444444444,
             "#bd3786"
            ],
            [
             0.5555555555555556,
             "#d8576b"
            ],
            [
             0.6666666666666666,
             "#ed7953"
            ],
            [
             0.7777777777777778,
             "#fb9f3a"
            ],
            [
             0.8888888888888888,
             "#fdca26"
            ],
            [
             1,
             "#f0f921"
            ]
           ]
          },
          "colorway": [
           "#636efa",
           "#EF553B",
           "#00cc96",
           "#ab63fa",
           "#FFA15A",
           "#19d3f3",
           "#FF6692",
           "#B6E880",
           "#FF97FF",
           "#FECB52"
          ],
          "font": {
           "color": "#2a3f5f"
          },
          "geo": {
           "bgcolor": "white",
           "lakecolor": "white",
           "landcolor": "#E5ECF6",
           "showlakes": true,
           "showland": true,
           "subunitcolor": "white"
          },
          "hoverlabel": {
           "align": "left"
          },
          "hovermode": "closest",
          "mapbox": {
           "style": "light"
          },
          "paper_bgcolor": "white",
          "plot_bgcolor": "#E5ECF6",
          "polar": {
           "angularaxis": {
            "gridcolor": "white",
            "linecolor": "white",
            "ticks": ""
           },
           "bgcolor": "#E5ECF6",
           "radialaxis": {
            "gridcolor": "white",
            "linecolor": "white",
            "ticks": ""
           }
          },
          "scene": {
           "xaxis": {
            "backgroundcolor": "#E5ECF6",
            "gridcolor": "white",
            "gridwidth": 2,
            "linecolor": "white",
            "showbackground": true,
            "ticks": "",
            "zerolinecolor": "white"
           },
           "yaxis": {
            "backgroundcolor": "#E5ECF6",
            "gridcolor": "white",
            "gridwidth": 2,
            "linecolor": "white",
            "showbackground": true,
            "ticks": "",
            "zerolinecolor": "white"
           },
           "zaxis": {
            "backgroundcolor": "#E5ECF6",
            "gridcolor": "white",
            "gridwidth": 2,
            "linecolor": "white",
            "showbackground": true,
            "ticks": "",
            "zerolinecolor": "white"
           }
          },
          "shapedefaults": {
           "line": {
            "color": "#2a3f5f"
           }
          },
          "ternary": {
           "aaxis": {
            "gridcolor": "white",
            "linecolor": "white",
            "ticks": ""
           },
           "baxis": {
            "gridcolor": "white",
            "linecolor": "white",
            "ticks": ""
           },
           "bgcolor": "#E5ECF6",
           "caxis": {
            "gridcolor": "white",
            "linecolor": "white",
            "ticks": ""
           }
          },
          "title": {
           "x": 0.05
          },
          "xaxis": {
           "automargin": true,
           "gridcolor": "white",
           "linecolor": "white",
           "ticks": "",
           "title": {
            "standoff": 15
           },
           "zerolinecolor": "white",
           "zerolinewidth": 2
          },
          "yaxis": {
           "automargin": true,
           "gridcolor": "white",
           "linecolor": "white",
           "ticks": "",
           "title": {
            "standoff": 15
           },
           "zerolinecolor": "white",
           "zerolinewidth": 2
          }
         }
        }
       }
      },
      "text/html": [
       "<div>                        <script type=\"text/javascript\">window.PlotlyConfig = {MathJaxConfig: 'local'};</script>\n",
       "        <script charset=\"utf-8\" src=\"https://cdn.plot.ly/plotly-2.35.2.min.js\"></script>                <div id=\"3fd05102-f732-417d-aeaf-a82c6f2fed81\" class=\"plotly-graph-div\" style=\"height:300px; width:100%;\"></div>            <script type=\"text/javascript\">                                    window.PLOTLYENV=window.PLOTLYENV || {};                                    if (document.getElementById(\"3fd05102-f732-417d-aeaf-a82c6f2fed81\")) {                    Plotly.newPlot(                        \"3fd05102-f732-417d-aeaf-a82c6f2fed81\",                        [{\"customdata\":[[\"Alugo casa estilo kitnet \",\"R$ 800\",\"https:\\u002f\\u002fpe.olx.com.br\\u002fgrande-recife\\u002fimoveis\\u002falugo-casa-estilo-kitnet-1355828350\"],[\"PENSIONATO CIDADE UNIVERSIT\\u00c1RIA - UFPE\",\"R$ 680\",\"https:\\u002f\\u002fpe.olx.com.br\\u002fgrande-recife\\u002fimoveis\\u002fpensionato-cidade-universitaria-ufpe-1316924785\"],[\"Quarto privativo - Madalena\",\"R$ 650\",\"https:\\u002f\\u002fpe.olx.com.br\\u002fgrande-recife\\u002fimoveis\\u002fquarto-privativo-madalena-1355931998\"],[\"Quarto individual Masculino\",\"R$ 500\",\"https:\\u002f\\u002fpe.olx.com.br\\u002fgrande-recife\\u002fimoveis\\u002fquarto-individual-masculino-1355865426\"],[\"Casa em \\u00f3tima localiza\\u00e7\\u00e3o, pr\\u00f3ximo ao centro!\",\"R$ 750\",\"https:\\u002f\\u002fpe.olx.com.br\\u002fgrande-recife\\u002fimoveis\\u002fcasa-em-otima-localizacao-proximo-ao-centro-1355784536\"],[\"Casa pr\\u00f3ximo a ufpe 600mts \",\"R$ 950\",\"https:\\u002f\\u002fpe.olx.com.br\\u002fgrande-recife\\u002fimoveis\\u002fcasa-proximo-a-ufpe-600mts-1129224132\"],[\"Casa para Alugar - Pr\\u00f3ximo ao Centro\",\"R$ 500\",\"https:\\u002f\\u002fpe.olx.com.br\\u002fgrande-recife\\u002fimoveis\\u002fcasa-para-alugar-proximo-ao-centro-1355680531\"],[\"Salas Aluguel Cidade Universit\\u00e1ria V\\u00e1rzea\",\"R$ 800\",\"https:\\u002f\\u002fpe.olx.com.br\\u002fgrande-recife\\u002fimoveis\\u002fsalas-aluguel-cidade-universitaria-varzea-1355492941\"],[\"Aluguel de casa\",\"R$ 850\",\"https:\\u002f\\u002fpe.olx.com.br\\u002fgrande-recife\\u002fimoveis\\u002faluguel-de-casa-1355408406\"],[\"Kitnet  na caxang\\u00e1\",\"R$ 500\",\"https:\\u002f\\u002fpe.olx.com.br\\u002fgrande-recife\\u002fimoveis\\u002fkitnet-na-caxanga-1355378286\"],[\"Aluga-se apartamento \",\"R$ 1.000\",\"https:\\u002f\\u002fpe.olx.com.br\\u002fgrande-recife\\u002fimoveis\\u002faluga-se-apartamento-1355360983\"],[\"Quarto em apto Compartilhado\",\"R$ 480\",\"https:\\u002f\\u002fpe.olx.com.br\\u002fgrande-recife\\u002fimoveis\\u002fquarto-em-apto-compartilhado-1355321026\"],[\"Quartos individuais para alunas de mestrado e doutorado pr\\u00f3ximo a UFPE\",\"R$ 580\",\"https:\\u002f\\u002fpe.olx.com.br\\u002fgrande-recife\\u002fimoveis\\u002fquartos-individuais-para-alunas-de-mestrado-e-doutorado-proximo-a-ufpe-1355301860\"],[\"Loft Derby\",\"R$ 150\",\"https:\\u002f\\u002fpe.olx.com.br\\u002fgrande-recife\\u002fimoveis\\u002floft-derby-1355197921\"],[\"Aluga-se um kitnet \",\"R$ 400\",\"https:\\u002f\\u002fpe.olx.com.br\\u002fgrande-recife\\u002fimoveis\\u002faluga-se-um-kitnet-1354774742\"],[\"kitnet pr\\u00f3ximo a UFPE na V\\u00e1rzea - Recife - PE\",\"R$ 650\",\"https:\\u002f\\u002fpe.olx.com.br\\u002fgrande-recife\\u002fimoveis\\u002fkitnet-proximo-a-ufpe-na-varzea-recife-pe-1354617408\"],[\"Aluga-se Quarto mobiliado ao lado da UFPE - Vaga para mulheres \",\"R$ 900\",\"https:\\u002f\\u002fpe.olx.com.br\\u002fgrande-recife\\u002fimoveis\\u002faluga-se-quarto-mobiliado-ao-lado-da-ufpe-vaga-para-mulheres-1354503830\"],[\"Aluga vaga de quarto na V\\u00e1rzea pr\\u00f3ximo UFPE e CAXANG\\u00c1\",\"R$ 550\",\"https:\\u002f\\u002fpe.olx.com.br\\u002fgrande-recife\\u002fimoveis\\u002faluga-vaga-de-quarto-na-varzea-proximo-ufpe-e-caxanga-1354423036\"],[\"Casa super grande em Dois unidos \",\"R$ 600\",\"https:\\u002f\\u002fpe.olx.com.br\\u002fgrande-recife\\u002fimoveis\\u002fcasa-super-grande-em-dois-unidos-1354373577\"],[\"Aluguel Flat\\u002fKitnet na V\\u00e1rzea!\",\"R$ 450\",\"https:\\u002f\\u002fpe.olx.com.br\\u002fgrande-recife\\u002fimoveis\\u002faluguel-flat-kitnet-na-varzea-1354276311\"],[\"Quarto para alugar no Cordeiro \",\"R$ 650\",\"https:\\u002f\\u002fpe.olx.com.br\\u002fgrande-recife\\u002fimoveis\\u002fquarto-para-alugar-no-cordeiro-1354151150\"],[\"Aluga-se quarto  para estudantes e sala comercial, pr\\u00f3ximo a UFPE\",\"R$ 750\",\"https:\\u002f\\u002fpe.olx.com.br\\u002fgrande-recife\\u002fimoveis\\u002faluga-se-quarto-para-estudantes-e-sala-comercial-proximo-a-ufpe-1250165482\"],[\"Kitnet mobiliado em jardim Petr\\u00f3polis na v\\u00e1rzea \",\"R$ 1.000\",\"https:\\u002f\\u002fpe.olx.com.br\\u002fgrande-recife\\u002fimoveis\\u002fkitnet-mobiliado-em-jardim-petropolis-na-varzea-1353898516\"],[\"Kitnet Individual para Estudante UFPE\",\"R$ 750\",\"https:\\u002f\\u002fpe.olx.com.br\\u002fgrande-recife\\u002fimoveis\\u002fkitnet-individual-para-estudante-ufpe-1353676606\"],[\"Casa na V\\u00e1rzea \",\"R$ 800\",\"https:\\u002f\\u002fpe.olx.com.br\\u002fgrande-recife\\u002fimoveis\\u002fcasa-na-varzea-1353526853\"],[\"Vendo ou alugo\",\"R$ 380\",\"https:\\u002f\\u002fpe.olx.com.br\\u002fgrande-recife\\u002fimoveis\\u002fvendo-ou-alugo-1353487635\"],[\"Casa com Sala Ampla\",\"R$ 800\",\"https:\\u002f\\u002fpe.olx.com.br\\u002fgrande-recife\\u002fimoveis\\u002fcasa-com-sala-ampla-1344808939\"],[\"KITINETE * EM FRENTE  ao CFCH * UFPE  **** APT com 2 quartos pr\\u00f3ximo do HC UFPE\",\"R$ 850\",\"https:\\u002f\\u002fpe.olx.com.br\\u002fgrande-recife\\u002fimoveis\\u002fkitinete-em-frente-ao-cfch-ufpe--apt-com-2-quartos-proximo-do-hc-ufpe-1150440635\"],[\"Apartamento compartilhado. \",\"R$ 700\",\"https:\\u002f\\u002fpe.olx.com.br\\u002fgrande-recife\\u002fimoveis\\u002fapartamento-compartilhado-1355442139\"],[\"Alugo Kitnet e outros im\\u00f3veis pr\\u00f3ximos da UFPE\",\"R$ 800\",\"https:\\u002f\\u002fpe.olx.com.br\\u002fgrande-recife\\u002fimoveis\\u002falugo-kitnet-e-outros-imoveis-proximos-da-ufpe-1353319772\"],[\"Apartamento para Alugar\",\"R$ 1.000\",\"https:\\u002f\\u002fpe.olx.com.br\\u002fgrande-recife\\u002fimoveis\\u002fapartamento-para-alugar-1347288035\"],[\"Aluga-se casa com dois quartos, banheiro, cozinha americana.\",\"R$ 450\",\"https:\\u002f\\u002fpe.olx.com.br\\u002fgrande-recife\\u002fimoveis\\u002faluga-se-casa-com-dois-quartos-banheiro-cozinha-americana-1355289471\"],[\"Alugo casa na Iputinga poucos metros da av. Caxang\\u00e1 \",\"R$ 1.000\",\"https:\\u002f\\u002fpe.olx.com.br\\u002fgrande-recife\\u002fimoveis\\u002falugo-casa-na-iputinga-poucos-metros-da-av-caxanga-1353033132\"],[\"Kitnet para Alugar no Engenho do Meio\",\"R$ 650\",\"https:\\u002f\\u002fpe.olx.com.br\\u002fgrande-recife\\u002fimoveis\\u002fkitnet-para-alugar-no-engenho-do-meio-1352787073\"],[\"Alugam-se kit nets em Recife\",\"R$ 350\",\"https:\\u002f\\u002fpe.olx.com.br\\u002fgrande-recife\\u002fimoveis\\u002falugam-se-kit-nets-em-recife-1352784264\"],[\"aluga apartamento \",\"R$ 900\",\"https:\\u002f\\u002fpe.olx.com.br\\u002fgrande-recife\\u002fimoveis\\u002faluga-apartamento-1355042983\"],[\"Casa no cordeiro\",\"R$ 600\",\"https:\\u002f\\u002fpe.olx.com.br\\u002fgrande-recife\\u002fimoveis\\u002fcasa-no-cordeiro-1352610798\"],[\"Casa para alugar \",\"R$ 650\",\"https:\\u002f\\u002fpe.olx.com.br\\u002fgrande-recife\\u002fimoveis\\u002fcasa-para-alugar-1352372827\"],[\"Kitnet na V\\u00e1rzea\",\"R$ 600\",\"https:\\u002f\\u002fpe.olx.com.br\\u002fgrande-recife\\u002fimoveis\\u002fkitnet-na-varzea-1352305544\"],[\"Alugo loft , apartamento, casa\",\"R$ 850\",\"https:\\u002f\\u002fpe.olx.com.br\\u002fgrande-recife\\u002fimoveis\\u002falugo-loft-apartamento-casa-1321254473\"],[\"Apartamento 01 quarto no Cordeiro\\u002fIputinga\\u002fCaxang\\u00e1\",\"R$ 900\",\"https:\\u002f\\u002fpe.olx.com.br\\u002fgrande-recife\\u002fimoveis\\u002fapartamento-01-quarto-no-cordeiro-iputinga-caxanga-1326792696\"],[\"Alugo Ap. 1 quarto no Cordeiro\\u002fCaxang\\u00e1\\u002fIputinga\",\"R$ 900\",\"https:\\u002f\\u002fpe.olx.com.br\\u002fgrande-recife\\u002fimoveis\\u002falugo-ap-1-quarto-no-cordeiro-caxanga-iputinga-1352234686\"],[\"Casa no Cordeiro \",\"R$ 500\",\"https:\\u002f\\u002fpe.olx.com.br\\u002fgrande-recife\\u002fimoveis\\u002fcasa-no-cordeiro-1352223547\"],[\"Casa na torre\\u002f vila Santa luzia \",\"R$ 700\",\"https:\\u002f\\u002fpe.olx.com.br\\u002fgrande-recife\\u002fimoveis\\u002fcasa-na-torre-vila-santa-luzia-1352102357\"],[\"Loft 2 aluguel por di\\u00e1ria no Derby.\",\"R$ 150\",\"https:\\u002f\\u002fpe.olx.com.br\\u002fgrande-recife\\u002fimoveis\\u002floft-2-aluguel-por-diaria-no-derby-1352036931\"],[\"Casa aconchegante com 2 quartos \",\"R$ 800\",\"https:\\u002f\\u002fpe.olx.com.br\\u002fgrande-recife\\u002fimoveis\\u002fcasa-aconchegante-com-2-quartos-1351918067\"],[\"Aluguel de quarto na Torre- Recife (somente para meninas)\",\"R$ 666\",\"https:\\u002f\\u002fpe.olx.com.br\\u002fgrande-recife\\u002fimoveis\\u002faluguel-de-quarto-na-torre-recife-somente-para-meninas-1351699611\"],[\"Aluguel kinet na v\\u00e1rzea \",\"R$ 470\",\"https:\\u002f\\u002fpe.olx.com.br\\u002fgrande-recife\\u002fimoveis\\u002faluguel-kinet-na-varzea-1351675886\"],[\"Quarto com banheiro para meninas\",\"R$ 502\",\"https:\\u002f\\u002fpe.olx.com.br\\u002fgrande-recife\\u002fimoveis\\u002fquarto-com-banheiro-para-meninas-1351373051\"],[\"Aluga-se um Kitnet pr\\u00f3x a UFPE\",\"R$ 780\",\"https:\\u002f\\u002fpe.olx.com.br\\u002fgrande-recife\\u002fimoveis\\u002faluga-se-um-kitnet-prox-a-ufpe-1350624460\"],[\"Republica para estudantes pr\\u00f3ximo a UFPE\",\"R$ 500\",\"https:\\u002f\\u002fpe.olx.com.br\\u002fgrande-recife\\u002fimoveis\\u002frepublica-para-estudantes-proximo-a-ufpe-1350429778\"],[\"Quarto privativo em casa compartilhada. Perto da FASUP\",\"R$ 600\",\"https:\\u002f\\u002fpe.olx.com.br\\u002fgrande-recife\\u002fimoveis\\u002fquarto-privativo-em-casa-compartilhada-perto-da-fasup-1349965285\"],[\"Aluguel quarto na v\\u00e1rzea \",\"R$ 400\",\"https:\\u002f\\u002fpe.olx.com.br\\u002fgrande-recife\\u002fimoveis\\u002faluguel-quarto-na-varzea-1349918930\"],[\"ALUGO QUARTO EM AP MOBILIADO\",\"R$ 900\",\"https:\\u002f\\u002fpe.olx.com.br\\u002fgrande-recife\\u002fimoveis\\u002falugo-quarto-em-ap-mobiliado-1349867065\"],[\"Alugo casa na Iputiga\",\"R$ 700\",\"https:\\u002f\\u002fpe.olx.com.br\\u002fgrande-recife\\u002fimoveis\\u002falugo-casa-na-iputiga-1349805656\"],[\"Pensionato estudantil UFPE\",\"R$ 600\",\"https:\\u002f\\u002fpe.olx.com.br\\u002fgrande-recife\\u002fimoveis\\u002fpensionato-estudantil-ufpe-1349788965\"],[\"Kitnet Para Alugar\",\"R$ 850\",\"https:\\u002f\\u002fpe.olx.com.br\\u002fgrande-recife\\u002fimoveis\\u002fkitnet-para-alugar-1349724790\"],[\"CASA PRA ALUGAR NA V\\u00c1RZEA\\u002fCDU\",\"R$ 700\",\"https:\\u002f\\u002fpe.olx.com.br\\u002fgrande-recife\\u002fimoveis\\u002fcasa-pra-alugar-na-varzea-cdu-1349721740\"],[\"1 quarto em pr\\u00e9dio novinho, pr\\u00f3ximo ao Jockey!\",\"R$ 850\",\"https:\\u002f\\u002fpe.olx.com.br\\u002fgrande-recife\\u002fimoveis\\u002f1-quarto-em-predio-novinho-proximo-ao-jockey-1349668444\"],[\"Quarto mobiliado \",\"R$ 550\",\"https:\\u002f\\u002fpe.olx.com.br\\u002fgrande-recife\\u002fimoveis\\u002fquarto-mobiliado-1349391953\"],[\"Loft Derby, diaria\",\"R$ 150\",\"https:\\u002f\\u002fpe.olx.com.br\\u002fgrande-recife\\u002fimoveis\\u002floft-derby-diaria-1349366539\"],[\"Aluga se casa parte de cima na caxangar nova morada\",\"R$ 700\",\"https:\\u002f\\u002fpe.olx.com.br\\u002fgrande-recife\\u002fimoveis\\u002faluga-se-casa-parte-de-cima-na-caxangar-nova-morada-1336813862\"],[\"Casa para alugar, rec\\u00e9m reformada\",\"R$ 600\",\"https:\\u002f\\u002fpe.olx.com.br\\u002fgrande-recife\\u002fimoveis\\u002fcasa-para-alugar-recem-reformada-1350713749\"],[\"Alugo Kitnet  pr\\u00f3x. A Reitoria da UFPE(ENGENHO DO MEIO).\",\"R$ 700\",\"https:\\u002f\\u002fpe.olx.com.br\\u002fgrande-recife\\u002fimoveis\\u002falugo-kitnet-prox-a-reitoria-da-ufpe-engenho-do-meio-1339752285\"],[\"Quartos para estudantes ou pessoas que trabalha em Recife .\",\"R$ 400\",\"https:\\u002f\\u002fpe.olx.com.br\\u002fgrande-recife\\u002fimoveis\\u002fquartos-para-estudantes-ou-pessoas-que-trabalha-em-recife-1347433153\"],[\"APARTAMENTO NO CORDEIRO, BONGI\",\"R$ 850\",\"https:\\u002f\\u002fpe.olx.com.br\\u002fgrande-recife\\u002fimoveis\\u002fapartamento-no-cordeiro-bongi-1349005680\"],[\"LOCA\\u00c7\\u00c3O - APARTAMENTO 01 QUARTO NA IPUTINGA\",\"R$ 730\",\"https:\\u002f\\u002fpe.olx.com.br\\u002fgrande-recife\\u002fimoveis\\u002flocacao-apartamento-01-quarto-na-iputinga-1346582643\"],[\"Vende-se um Excelente Apartamento Portal de s\\u00e3o Louren\\u00e7o.\",\"R$ 600\",\"https:\\u002f\\u002fpe.olx.com.br\\u002fgrande-recife\\u002fimoveis\\u002fvende-se-um-excelente-apartamento-portal-de-sao-lourenco-1346496132\"],[\"Alugo apto em Rio doce\",\"R$ 500\",\"https:\\u002f\\u002fpe.olx.com.br\\u002fgrande-recife\\u002fimoveis\\u002falugo-apto-em-rio-doce-1346415505\"],[\"Quarto individual para estudante mulher em casa compartilhada a 10 minutos \\u00e0 p\\u00e9 da UFPE \",\"R$ 600\",\"https:\\u002f\\u002fpe.olx.com.br\\u002fgrande-recife\\u002fimoveis\\u002fquarto-individual-para-estudante-mulher-em-casa-compartilhada-a-10-minutos-a-pe-da-ufpe-1346163339\"],[\"Casa para estudante - V\\u00e1rzea\",\"R$ 799\",\"https:\\u002f\\u002fpe.olx.com.br\\u002fgrande-recife\\u002fimoveis\\u002fcasa-para-estudante-varzea-1346149619\"],[\"Vaga para meninas em apartamento universit\\u00e1rio \",\"R$ 434\",\"https:\\u002f\\u002fpe.olx.com.br\\u002fgrande-recife\\u002fimoveis\\u002fvaga-para-meninas-em-apartamento-universitario-1346102943\"],[\"Kitnet com ou sem m\\u00f3veis no bairro do Cordeiro.\",\"R$ 600\",\"https:\\u002f\\u002fpe.olx.com.br\\u002fgrande-recife\\u002fimoveis\\u002fkitnet-com-ou-sem-moveis-no-bairro-do-cordeiro-1346049210\"],[\"Casa Apipucos Aluga-se\",\"R$ 1.000\",\"https:\\u002f\\u002fpe.olx.com.br\\u002fgrande-recife\\u002fimoveis\\u002fcasa-apipucos-aluga-se-1323084775\"],[\"EstrelaFlat110\",\"R$ 240\",\"https:\\u002f\\u002fpe.olx.com.br\\u002fgrande-recife\\u002fimoveis\\u002festrelaflat110-1345698779\"],[\"Alugase quartos para solteiros por temporada...\",\"R$ 600\",\"https:\\u002f\\u002fpe.olx.com.br\\u002fgrande-recife\\u002fimoveis\\u002falugase-quartos-para-solteiros-por-temporada-1329915150\"],[\"Alugo kitnet \",\"R$ 650\",\"https:\\u002f\\u002fpe.olx.com.br\\u002fgrande-recife\\u002fimoveis\\u002falugo-kitnet-1345547390\"],[\"Casa pra alugar torr\\u00f5es\",\"R$ 600\",\"https:\\u002f\\u002fpe.olx.com.br\\u002fgrande-recife\\u002fimoveis\\u002fcasa-pra-alugar-torroes-1345464671\"],[\"Kitnet \",\"R$ 500\",\"https:\\u002f\\u002fpe.olx.com.br\\u002fgrande-recife\\u002fimoveis\\u002fkitnet-1345366325\"],[\"Kitnets para alugar \",\"R$ 330\",\"https:\\u002f\\u002fpe.olx.com.br\\u002fgrande-recife\\u002fimoveis\\u002fkitnets-para-alugar-1345199525\"],[\"Aproveite kitnet na V\\u00e1rzea, Jardim Petr\\u00f3polis\",\"R$ 400\",\"https:\\u002f\\u002fpe.olx.com.br\\u002fgrande-recife\\u002fimoveis\\u002faproveite-kitnet-na-varzea-jardim-petropolis-1324426993\"],[\"Alugo quarto para mulheres\",\"R$ 800\",\"https:\\u002f\\u002fpe.olx.com.br\\u002fgrande-recife\\u002fimoveis\\u002falugo-quarto-para-mulheres-1344797898\"],[\"Alugo 1  quarto Feminino\",\"R$ 600\",\"https:\\u002f\\u002fpe.olx.com.br\\u002fgrande-recife\\u002fimoveis\\u002falugo-1-quarto-feminino-1344765155\"],[\"casa para alugar\",\"R$ 500\",\"https:\\u002f\\u002fpe.olx.com.br\\u002fgrande-recife\\u002fimoveis\\u002fcasa-para-alugar-1344639867\"],[\"Casa para Alugar - Oportunidade Imperd\\u00edvel!\",\"R$ 700\",\"https:\\u002f\\u002fpe.olx.com.br\\u002fgrande-recife\\u002fimoveis\\u002fcasa-para-alugar-oportunidade-imperdivel-1342967078\"],[\"Casa Ponta de Serrambi 5 Quartos\",\"R$ 800\",\"https:\\u002f\\u002fpe.olx.com.br\\u002fgrande-recife\\u002fimoveis\\u002fcasa-ponta-de-serrambi-5-quartos-1322649810\"],[\"Aluguel de casa no Cordeiro \",\"R$ 700\",\"https:\\u002f\\u002fpe.olx.com.br\\u002fgrande-recife\\u002fimoveis\\u002faluguel-de-casa-no-cordeiro-1344074036\"],[\"A casa fica localizada  em um condom\\u00ednio  de frente  ao campo de passarinho\",\"R$ 600\",\"https:\\u002f\\u002fpe.olx.com.br\\u002fgrande-recife\\u002fimoveis\\u002fa-casa-fica-localizada-em-um-condominio-de-frente-ao-campo-de-passarinho-1344050147\"],[\"Alugo kitnet \",\"R$ 550\",\"https:\\u002f\\u002fpe.olx.com.br\\u002fgrande-recife\\u002fimoveis\\u002falugo-kitnet-1343870588\"],[\"Aluga-se Kitnet (Flat\\u002fStudio) *INDISPON\\u00cdVEL*\",\"R$ 780\",\"https:\\u002f\\u002fpe.olx.com.br\\u002fgrande-recife\\u002fimoveis\\u002faluga-se-kitnet-flat-studio-indisponivel-1343782183\"],[\"Kitnet para mo\\u00e7as , no cora\\u00e7\\u00e3o do Cordeiro.\",\"R$ 700\",\"https:\\u002f\\u002fpe.olx.com.br\\u002fgrande-recife\\u002fimoveis\\u002fkitnet-para-mocas-no-coracao-do-cordeiro-1343734614\"],[\"Sala comercial pr\\u00f3ximo UFPE\",\"R$ 800\",\"https:\\u002f\\u002fpe.olx.com.br\\u002fgrande-recife\\u002fimoveis\\u002fsala-comercial-proximo-ufpe-1342005902\"],[\"Aluguel de quarto na Torre\",\"R$ 750\",\"https:\\u002f\\u002fpe.olx.com.br\\u002fgrande-recife\\u002fimoveis\\u002faluguel-de-quarto-na-torre-1343585739\"],[\"Kitnet cidade universit\\u00e1ria \",\"R$ 950\",\"https:\\u002f\\u002fpe.olx.com.br\\u002fgrande-recife\\u002fimoveis\\u002fkitnet-cidade-universitaria-1343072656\"],[\"aluga se apartamento na v\\u00e1rzea \",\"R$ 700\",\"https:\\u002f\\u002fpe.olx.com.br\\u002fgrande-recife\\u002fimoveis\\u002faluga-se-apartamento-na-varzea-1342912612\"],[\"FLAT ao lado da UFPE *R$  870,00 * Em frente ao DEPT de FARM\\u00c1CIA UFPE\",\"R$ 870\",\"https:\\u002f\\u002fpe.olx.com.br\\u002fgrande-recife\\u002fimoveis\\u002fflat-ao-lado-da-ufpe-r-870-00-em-frente-ao-dept-de-farmacia-ufpe-1076243263\"],[\"Ap 1 quarto na ur7, 1? andar, sem garagem\",\"R$ 650\",\"https:\\u002f\\u002fpe.olx.com.br\\u002fgrande-recife\\u002fimoveis\\u002fap-1-quarto-na-ur7-1-andar-sem-garagem-1342573375\"],[\"Alugasse quarto um v\\u00e3o s\\u00f3\",\"R$ 400\",\"https:\\u002f\\u002fpe.olx.com.br\\u002fgrande-recife\\u002fimoveis\\u002falugasse-quarto-um-vao-so-1342296773\"],[\"Casa em Condom\\u00ednio Fechado com Piscina e \\u00c1rea Gourmet\",\"R$ 650\",\"https:\\u002f\\u002fpe.olx.com.br\\u002fgrande-recife\\u002fimoveis\\u002fcasa-em-condominio-fechado-com-piscina-e-area-gourmet-1341920998\"],[\"Vagas em apartamento na Torre para mulheres\",\"R$ 950\",\"https:\\u002f\\u002fpe.olx.com.br\\u002fgrande-recife\\u002fimoveis\\u002fvagas-em-apartamento-na-torre-para-mulheres-1341138742\"],[\"Alugo casa em itamarac\\u00e1 \",\"R$ 950\",\"https:\\u002f\\u002fpe.olx.com.br\\u002fgrande-recife\\u002fimoveis\\u002falugo-casa-em-itamaraca-1341048336\"],[\"Ponto pra alugar \",\"R$ 400\",\"https:\\u002f\\u002fpe.olx.com.br\\u002fgrande-recife\\u002fimoveis\\u002fponto-pra-alugar-1340790521\"],[\"Im\\u00f3vel para aluguel c\\u002f51 M\\u00b2 com 2 quartos em V\\u00e1rzea - Recife - PE\",\"R$ 800\",\"https:\\u002f\\u002fpe.olx.com.br\\u002fgrande-recife\\u002fimoveis\\u002fimovel-para-aluguel-c-51-m-com-2-quartos-em-varzea-recife-pe-1340495022\"],[\"Quarto estudantil para alugar na Cidade Universit\\u00e1ria\",\"R$ 600\",\"https:\\u002f\\u002fpe.olx.com.br\\u002fgrande-recife\\u002fimoveis\\u002fquarto-estudantil-para-alugar-na-cidade-universitaria-1340007016\"],[\"Kit Cozinha Completo - Fog\\u00e3o, Pia e Refrigerador\",\"R$ 950\",\"https:\\u002f\\u002fpe.olx.com.br\\u002fgrande-recife\\u002fimoveis\\u002fkit-cozinha-completo-fogao-pia-e-refrigerador-1339877816\"],[\"Quarto em Apto Na Polidoro Pr\\u00f3x a UFPE ( Tudo Incluso )\",\"R$ 350\",\"https:\\u002f\\u002fpe.olx.com.br\\u002fgrande-recife\\u002fimoveis\\u002fquarto-em-apto-na-polidoro-prox-a-ufpe-tudo-incluso-1317178468\"],[\"Kitnet bem localizado \",\"R$ 550\",\"https:\\u002f\\u002fpe.olx.com.br\\u002fgrande-recife\\u002fimoveis\\u002fkitnet-bem-localizado-1339664378\"],[\"Ketnet \",\"R$ 450\",\"https:\\u002f\\u002fpe.olx.com.br\\u002fgrande-recife\\u002fimoveis\\u002fketnet-1341355604\"],[\"Casa pra alugar \",\"R$ 650\",\"https:\\u002f\\u002fpe.olx.com.br\\u002fgrande-recife\\u002fimoveis\\u002fcasa-pra-alugar-1339278014\"],[\"Casa de vila para aluguel com 40 mts\\u00b2 com 2 quartos no Cordeiro - Recife .\",\"R$ 650\",\"https:\\u002f\\u002fpe.olx.com.br\\u002fgrande-recife\\u002fimoveis\\u002fcasa-de-vila-para-aluguel-com-40-mts-com-2-quartos-no-cordeiro-recife-1293934549\"],[\"Apartamento para aluguel, 1 quarto, 1 vaga, Cordeiro - Recife\\u002fPE\",\"R$ 880\",\"https:\\u002f\\u002fpe.olx.com.br\\u002fgrande-recife\\u002fimoveis\\u002fapartamento-para-aluguel-1-quarto-1-vaga-cordeiro-recife-pe-1282369079\"]],\"hovertemplate\":\"\\u003cb\\u003e%{hovertext}\\u003c\\u002fb\\u003e\\u003cbr\\u003e\\u003cbr\\u003elat=%{lat}\\u003cbr\\u003elng=%{lon}\\u003cbr\\u003etitle=%{customdata[0]}\\u003cbr\\u003eprice=%{customdata[1]}\\u003cbr\\u003eurl=%{customdata[2]}\\u003cextra\\u003e\\u003c\\u002fextra\\u003e\",\"hovertext\":[\"Alugo casa estilo kitnet \",\"PENSIONATO CIDADE UNIVERSIT\\u00c1RIA - UFPE\",\"Quarto privativo - Madalena\",\"Quarto individual Masculino\",\"Casa em \\u00f3tima localiza\\u00e7\\u00e3o, pr\\u00f3ximo ao centro!\",\"Casa pr\\u00f3ximo a ufpe 600mts \",\"Casa para Alugar - Pr\\u00f3ximo ao Centro\",\"Salas Aluguel Cidade Universit\\u00e1ria V\\u00e1rzea\",\"Aluguel de casa\",\"Kitnet  na caxang\\u00e1\",\"Aluga-se apartamento \",\"Quarto em apto Compartilhado\",\"Quartos individuais para alunas de mestrado e doutorado pr\\u00f3ximo a UFPE\",\"Loft Derby\",\"Aluga-se um kitnet \",\"kitnet pr\\u00f3ximo a UFPE na V\\u00e1rzea - Recife - PE\",\"Aluga-se Quarto mobiliado ao lado da UFPE - Vaga para mulheres \",\"Aluga vaga de quarto na V\\u00e1rzea pr\\u00f3ximo UFPE e CAXANG\\u00c1\",\"Casa super grande em Dois unidos \",\"Aluguel Flat\\u002fKitnet na V\\u00e1rzea!\",\"Quarto para alugar no Cordeiro \",\"Aluga-se quarto  para estudantes e sala comercial, pr\\u00f3ximo a UFPE\",\"Kitnet mobiliado em jardim Petr\\u00f3polis na v\\u00e1rzea \",\"Kitnet Individual para Estudante UFPE\",\"Casa na V\\u00e1rzea \",\"Vendo ou alugo\",\"Casa com Sala Ampla\",\"KITINETE * EM FRENTE  ao CFCH * UFPE  **** APT com 2 quartos pr\\u00f3ximo do HC UFPE\",\"Apartamento compartilhado. \",\"Alugo Kitnet e outros im\\u00f3veis pr\\u00f3ximos da UFPE\",\"Apartamento para Alugar\",\"Aluga-se casa com dois quartos, banheiro, cozinha americana.\",\"Alugo casa na Iputinga poucos metros da av. Caxang\\u00e1 \",\"Kitnet para Alugar no Engenho do Meio\",\"Alugam-se kit nets em Recife\",\"aluga apartamento \",\"Casa no cordeiro\",\"Casa para alugar \",\"Kitnet na V\\u00e1rzea\",\"Alugo loft , apartamento, casa\",\"Apartamento 01 quarto no Cordeiro\\u002fIputinga\\u002fCaxang\\u00e1\",\"Alugo Ap. 1 quarto no Cordeiro\\u002fCaxang\\u00e1\\u002fIputinga\",\"Casa no Cordeiro \",\"Casa na torre\\u002f vila Santa luzia \",\"Loft 2 aluguel por di\\u00e1ria no Derby.\",\"Casa aconchegante com 2 quartos \",\"Aluguel de quarto na Torre- Recife (somente para meninas)\",\"Aluguel kinet na v\\u00e1rzea \",\"Quarto com banheiro para meninas\",\"Aluga-se um Kitnet pr\\u00f3x a UFPE\",\"Republica para estudantes pr\\u00f3ximo a UFPE\",\"Quarto privativo em casa compartilhada. Perto da FASUP\",\"Aluguel quarto na v\\u00e1rzea \",\"ALUGO QUARTO EM AP MOBILIADO\",\"Alugo casa na Iputiga\",\"Pensionato estudantil UFPE\",\"Kitnet Para Alugar\",\"CASA PRA ALUGAR NA V\\u00c1RZEA\\u002fCDU\",\"1 quarto em pr\\u00e9dio novinho, pr\\u00f3ximo ao Jockey!\",\"Quarto mobiliado \",\"Loft Derby, diaria\",\"Aluga se casa parte de cima na caxangar nova morada\",\"Casa para alugar, rec\\u00e9m reformada\",\"Alugo Kitnet  pr\\u00f3x. A Reitoria da UFPE(ENGENHO DO MEIO).\",\"Quartos para estudantes ou pessoas que trabalha em Recife .\",\"APARTAMENTO NO CORDEIRO, BONGI\",\"LOCA\\u00c7\\u00c3O - APARTAMENTO 01 QUARTO NA IPUTINGA\",\"Vende-se um Excelente Apartamento Portal de s\\u00e3o Louren\\u00e7o.\",\"Alugo apto em Rio doce\",\"Quarto individual para estudante mulher em casa compartilhada a 10 minutos \\u00e0 p\\u00e9 da UFPE \",\"Casa para estudante - V\\u00e1rzea\",\"Vaga para meninas em apartamento universit\\u00e1rio \",\"Kitnet com ou sem m\\u00f3veis no bairro do Cordeiro.\",\"Casa Apipucos Aluga-se\",\"EstrelaFlat110\",\"Alugase quartos para solteiros por temporada...\",\"Alugo kitnet \",\"Casa pra alugar torr\\u00f5es\",\"Kitnet \",\"Kitnets para alugar \",\"Aproveite kitnet na V\\u00e1rzea, Jardim Petr\\u00f3polis\",\"Alugo quarto para mulheres\",\"Alugo 1  quarto Feminino\",\"casa para alugar\",\"Casa para Alugar - Oportunidade Imperd\\u00edvel!\",\"Casa Ponta de Serrambi 5 Quartos\",\"Aluguel de casa no Cordeiro \",\"A casa fica localizada  em um condom\\u00ednio  de frente  ao campo de passarinho\",\"Alugo kitnet \",\"Aluga-se Kitnet (Flat\\u002fStudio) *INDISPON\\u00cdVEL*\",\"Kitnet para mo\\u00e7as , no cora\\u00e7\\u00e3o do Cordeiro.\",\"Sala comercial pr\\u00f3ximo UFPE\",\"Aluguel de quarto na Torre\",\"Kitnet cidade universit\\u00e1ria \",\"aluga se apartamento na v\\u00e1rzea \",\"FLAT ao lado da UFPE *R$  870,00 * Em frente ao DEPT de FARM\\u00c1CIA UFPE\",\"Ap 1 quarto na ur7, 1? andar, sem garagem\",\"Alugasse quarto um v\\u00e3o s\\u00f3\",\"Casa em Condom\\u00ednio Fechado com Piscina e \\u00c1rea Gourmet\",\"Vagas em apartamento na Torre para mulheres\",\"Alugo casa em itamarac\\u00e1 \",\"Ponto pra alugar \",\"Im\\u00f3vel para aluguel c\\u002f51 M\\u00b2 com 2 quartos em V\\u00e1rzea - Recife - PE\",\"Quarto estudantil para alugar na Cidade Universit\\u00e1ria\",\"Kit Cozinha Completo - Fog\\u00e3o, Pia e Refrigerador\",\"Quarto em Apto Na Polidoro Pr\\u00f3x a UFPE ( Tudo Incluso )\",\"Kitnet bem localizado \",\"Ketnet \",\"Casa pra alugar \",\"Casa de vila para aluguel com 40 mts\\u00b2 com 2 quartos no Cordeiro - Recife .\",\"Apartamento para aluguel, 1 quarto, 1 vaga, Cordeiro - Recife\\u002fPE\"],\"lat\":[-8.03761205,-8.0455847,-8.057334,-8.0403065,-8.034775,-8.0148472,-8.0425462,-8.06667,-8.0554462,-8.042791,-8.0472249,-8.0486852,-8.0488251,-8.0570025,-8.0325201,-8.0383139,-8.0524366,-8.0375278,-7.991121,-8.0321643,-8.048964,-8.0373588,-8.0381959,-8.0532678,-8.0332776,-11.009881,-22.478753,-8.0463426,-8.0543104,-8.0463426,-8.0494684,-8.056377,-8.0398298,-8.0546028,-8.0558157,-8.0480502,-8.053444,-8.0550883,-8.0332776,-8.0589575,-8.0427673,-8.0427673,-8.0552739,-23.4575288,-8.0570025,-8.0551346,-22.8703133,-8.0384222,-8.0578688,-8.0059656,-8.054157,-8.0587836,-8.0423004,-8.0546303,-8.0401903,-8.0455847,-22.8971933,-8.0562238,-8.0573814,-8.0321643,-8.0570025,-8.0215114,-8.0232572,-8.0563566,-8.0629303,-8.0589575,-8.0373592,-8.0232572,-8.0350183,-8.0562238,-8.0437033,-8.0464936,-8.0602987,-8.055802,-8.057334,-23.6208095,-8.0562443,-8.065118,-8.0238191,-11.009881,-8.0382038,-22.377077,-8.022673,-8.0478533,-8.0463426,-8.0523679,-8.0459986,-7.9796402,-8.042791,-8.0473952,-8.0453639,-8.0496718,-28.220271,-8.0373588,-8.0422408,-8.055802,-8.0374839,-8.0382038,-8.0428561,-8.055802,-8.049707,-8.0368711,-8.0321643,-8.0148472,-8.0442312,-8.0384222,-8.0559888,-8.0514716,-8.0428561,-8.0542571,-8.0521195],\"legendgroup\":\"\",\"lon\":[-34.954087425,-34.9478451,-34.9059977,-34.9501129,-34.9824307,-34.9238903,-34.9355396,-34.95,-34.9376973,-34.929521,-34.9232087,-34.9556343,-34.9551351,-34.904007,-34.9568051,-34.9476699,-34.9391165,-34.9526308,-34.920644,-34.9592364,-34.920872,-34.9456277,-34.9666566,-34.9431024,-34.9552448,-41.892123,-44.45934,-34.9559658,-34.912018,-34.9559658,-34.9197342,-34.939751,-34.9380784,-34.9427898,-34.9145736,-34.9582279,-34.92977,-34.9367558,-34.9552448,-34.9208872,-34.9304204,-34.9304204,-34.9226611,-46.5033936,-34.904007,-34.9313925,-43.4066793,-34.945364,-34.9108693,-34.9312478,-34.9455465,-34.9458963,-34.9477807,-34.928864,-34.9324199,-34.9478451,-43.1919463,-34.9589319,-34.9132019,-34.9592364,-34.904007,-34.9517423,-34.9506925,-34.9459553,-34.9421816,-34.9208872,-34.9321246,-34.9506925,-34.9412013,-34.9589319,-34.9523116,-34.9236637,-34.9256774,-34.921399,-34.9059977,-46.7168085,-34.9249131,-34.933476,-34.947507,-41.892123,-34.9630518,-41.7855375,-34.928116,-34.9429345,-34.9559658,-34.9075562,-34.9200064,-34.9173208,-34.929521,-34.9429101,-34.9191105,-34.9546585,-48.707366,-34.9456277,-34.9461573,-34.921399,-34.9770384,-34.9630518,-34.9118451,-34.921399,-34.941857,-34.9288973,-34.9592364,-34.9238903,-34.9495443,-34.945364,-34.9219378,-34.9356308,-34.9118451,-34.9363085,-34.9260977],\"marker\":{\"color\":\"fuchsia\"},\"mode\":\"markers\",\"name\":\"\",\"showlegend\":false,\"subplot\":\"mapbox\",\"type\":\"scattermapbox\"}],                        {\"template\":{\"data\":{\"histogram2dcontour\":[{\"type\":\"histogram2dcontour\",\"colorbar\":{\"outlinewidth\":0,\"ticks\":\"\"},\"colorscale\":[[0.0,\"#0d0887\"],[0.1111111111111111,\"#46039f\"],[0.2222222222222222,\"#7201a8\"],[0.3333333333333333,\"#9c179e\"],[0.4444444444444444,\"#bd3786\"],[0.5555555555555556,\"#d8576b\"],[0.6666666666666666,\"#ed7953\"],[0.7777777777777778,\"#fb9f3a\"],[0.8888888888888888,\"#fdca26\"],[1.0,\"#f0f921\"]]}],\"choropleth\":[{\"type\":\"choropleth\",\"colorbar\":{\"outlinewidth\":0,\"ticks\":\"\"}}],\"histogram2d\":[{\"type\":\"histogram2d\",\"colorbar\":{\"outlinewidth\":0,\"ticks\":\"\"},\"colorscale\":[[0.0,\"#0d0887\"],[0.1111111111111111,\"#46039f\"],[0.2222222222222222,\"#7201a8\"],[0.3333333333333333,\"#9c179e\"],[0.4444444444444444,\"#bd3786\"],[0.5555555555555556,\"#d8576b\"],[0.6666666666666666,\"#ed7953\"],[0.7777777777777778,\"#fb9f3a\"],[0.8888888888888888,\"#fdca26\"],[1.0,\"#f0f921\"]]}],\"heatmap\":[{\"type\":\"heatmap\",\"colorbar\":{\"outlinewidth\":0,\"ticks\":\"\"},\"colorscale\":[[0.0,\"#0d0887\"],[0.1111111111111111,\"#46039f\"],[0.2222222222222222,\"#7201a8\"],[0.3333333333333333,\"#9c179e\"],[0.4444444444444444,\"#bd3786\"],[0.5555555555555556,\"#d8576b\"],[0.6666666666666666,\"#ed7953\"],[0.7777777777777778,\"#fb9f3a\"],[0.8888888888888888,\"#fdca26\"],[1.0,\"#f0f921\"]]}],\"heatmapgl\":[{\"type\":\"heatmapgl\",\"colorbar\":{\"outlinewidth\":0,\"ticks\":\"\"},\"colorscale\":[[0.0,\"#0d0887\"],[0.1111111111111111,\"#46039f\"],[0.2222222222222222,\"#7201a8\"],[0.3333333333333333,\"#9c179e\"],[0.4444444444444444,\"#bd3786\"],[0.5555555555555556,\"#d8576b\"],[0.6666666666666666,\"#ed7953\"],[0.7777777777777778,\"#fb9f3a\"],[0.8888888888888888,\"#fdca26\"],[1.0,\"#f0f921\"]]}],\"contourcarpet\":[{\"type\":\"contourcarpet\",\"colorbar\":{\"outlinewidth\":0,\"ticks\":\"\"}}],\"contour\":[{\"type\":\"contour\",\"colorbar\":{\"outlinewidth\":0,\"ticks\":\"\"},\"colorscale\":[[0.0,\"#0d0887\"],[0.1111111111111111,\"#46039f\"],[0.2222222222222222,\"#7201a8\"],[0.3333333333333333,\"#9c179e\"],[0.4444444444444444,\"#bd3786\"],[0.5555555555555556,\"#d8576b\"],[0.6666666666666666,\"#ed7953\"],[0.7777777777777778,\"#fb9f3a\"],[0.8888888888888888,\"#fdca26\"],[1.0,\"#f0f921\"]]}],\"surface\":[{\"type\":\"surface\",\"colorbar\":{\"outlinewidth\":0,\"ticks\":\"\"},\"colorscale\":[[0.0,\"#0d0887\"],[0.1111111111111111,\"#46039f\"],[0.2222222222222222,\"#7201a8\"],[0.3333333333333333,\"#9c179e\"],[0.4444444444444444,\"#bd3786\"],[0.5555555555555556,\"#d8576b\"],[0.6666666666666666,\"#ed7953\"],[0.7777777777777778,\"#fb9f3a\"],[0.8888888888888888,\"#fdca26\"],[1.0,\"#f0f921\"]]}],\"mesh3d\":[{\"type\":\"mesh3d\",\"colorbar\":{\"outlinewidth\":0,\"ticks\":\"\"}}],\"scatter\":[{\"fillpattern\":{\"fillmode\":\"overlay\",\"size\":10,\"solidity\":0.2},\"type\":\"scatter\"}],\"parcoords\":[{\"type\":\"parcoords\",\"line\":{\"colorbar\":{\"outlinewidth\":0,\"ticks\":\"\"}}}],\"scatterpolargl\":[{\"type\":\"scatterpolargl\",\"marker\":{\"colorbar\":{\"outlinewidth\":0,\"ticks\":\"\"}}}],\"bar\":[{\"error_x\":{\"color\":\"#2a3f5f\"},\"error_y\":{\"color\":\"#2a3f5f\"},\"marker\":{\"line\":{\"color\":\"#E5ECF6\",\"width\":0.5},\"pattern\":{\"fillmode\":\"overlay\",\"size\":10,\"solidity\":0.2}},\"type\":\"bar\"}],\"scattergeo\":[{\"type\":\"scattergeo\",\"marker\":{\"colorbar\":{\"outlinewidth\":0,\"ticks\":\"\"}}}],\"scatterpolar\":[{\"type\":\"scatterpolar\",\"marker\":{\"colorbar\":{\"outlinewidth\":0,\"ticks\":\"\"}}}],\"histogram\":[{\"marker\":{\"pattern\":{\"fillmode\":\"overlay\",\"size\":10,\"solidity\":0.2}},\"type\":\"histogram\"}],\"scattergl\":[{\"type\":\"scattergl\",\"marker\":{\"colorbar\":{\"outlinewidth\":0,\"ticks\":\"\"}}}],\"scatter3d\":[{\"type\":\"scatter3d\",\"line\":{\"colorbar\":{\"outlinewidth\":0,\"ticks\":\"\"}},\"marker\":{\"colorbar\":{\"outlinewidth\":0,\"ticks\":\"\"}}}],\"scattermapbox\":[{\"type\":\"scattermapbox\",\"marker\":{\"colorbar\":{\"outlinewidth\":0,\"ticks\":\"\"}}}],\"scatterternary\":[{\"type\":\"scatterternary\",\"marker\":{\"colorbar\":{\"outlinewidth\":0,\"ticks\":\"\"}}}],\"scattercarpet\":[{\"type\":\"scattercarpet\",\"marker\":{\"colorbar\":{\"outlinewidth\":0,\"ticks\":\"\"}}}],\"carpet\":[{\"aaxis\":{\"endlinecolor\":\"#2a3f5f\",\"gridcolor\":\"white\",\"linecolor\":\"white\",\"minorgridcolor\":\"white\",\"startlinecolor\":\"#2a3f5f\"},\"baxis\":{\"endlinecolor\":\"#2a3f5f\",\"gridcolor\":\"white\",\"linecolor\":\"white\",\"minorgridcolor\":\"white\",\"startlinecolor\":\"#2a3f5f\"},\"type\":\"carpet\"}],\"table\":[{\"cells\":{\"fill\":{\"color\":\"#EBF0F8\"},\"line\":{\"color\":\"white\"}},\"header\":{\"fill\":{\"color\":\"#C8D4E3\"},\"line\":{\"color\":\"white\"}},\"type\":\"table\"}],\"barpolar\":[{\"marker\":{\"line\":{\"color\":\"#E5ECF6\",\"width\":0.5},\"pattern\":{\"fillmode\":\"overlay\",\"size\":10,\"solidity\":0.2}},\"type\":\"barpolar\"}],\"pie\":[{\"automargin\":true,\"type\":\"pie\"}]},\"layout\":{\"autotypenumbers\":\"strict\",\"colorway\":[\"#636efa\",\"#EF553B\",\"#00cc96\",\"#ab63fa\",\"#FFA15A\",\"#19d3f3\",\"#FF6692\",\"#B6E880\",\"#FF97FF\",\"#FECB52\"],\"font\":{\"color\":\"#2a3f5f\"},\"hovermode\":\"closest\",\"hoverlabel\":{\"align\":\"left\"},\"paper_bgcolor\":\"white\",\"plot_bgcolor\":\"#E5ECF6\",\"polar\":{\"bgcolor\":\"#E5ECF6\",\"angularaxis\":{\"gridcolor\":\"white\",\"linecolor\":\"white\",\"ticks\":\"\"},\"radialaxis\":{\"gridcolor\":\"white\",\"linecolor\":\"white\",\"ticks\":\"\"}},\"ternary\":{\"bgcolor\":\"#E5ECF6\",\"aaxis\":{\"gridcolor\":\"white\",\"linecolor\":\"white\",\"ticks\":\"\"},\"baxis\":{\"gridcolor\":\"white\",\"linecolor\":\"white\",\"ticks\":\"\"},\"caxis\":{\"gridcolor\":\"white\",\"linecolor\":\"white\",\"ticks\":\"\"}},\"coloraxis\":{\"colorbar\":{\"outlinewidth\":0,\"ticks\":\"\"}},\"colorscale\":{\"sequential\":[[0.0,\"#0d0887\"],[0.1111111111111111,\"#46039f\"],[0.2222222222222222,\"#7201a8\"],[0.3333333333333333,\"#9c179e\"],[0.4444444444444444,\"#bd3786\"],[0.5555555555555556,\"#d8576b\"],[0.6666666666666666,\"#ed7953\"],[0.7777777777777778,\"#fb9f3a\"],[0.8888888888888888,\"#fdca26\"],[1.0,\"#f0f921\"]],\"sequentialminus\":[[0.0,\"#0d0887\"],[0.1111111111111111,\"#46039f\"],[0.2222222222222222,\"#7201a8\"],[0.3333333333333333,\"#9c179e\"],[0.4444444444444444,\"#bd3786\"],[0.5555555555555556,\"#d8576b\"],[0.6666666666666666,\"#ed7953\"],[0.7777777777777778,\"#fb9f3a\"],[0.8888888888888888,\"#fdca26\"],[1.0,\"#f0f921\"]],\"diverging\":[[0,\"#8e0152\"],[0.1,\"#c51b7d\"],[0.2,\"#de77ae\"],[0.3,\"#f1b6da\"],[0.4,\"#fde0ef\"],[0.5,\"#f7f7f7\"],[0.6,\"#e6f5d0\"],[0.7,\"#b8e186\"],[0.8,\"#7fbc41\"],[0.9,\"#4d9221\"],[1,\"#276419\"]]},\"xaxis\":{\"gridcolor\":\"white\",\"linecolor\":\"white\",\"ticks\":\"\",\"title\":{\"standoff\":15},\"zerolinecolor\":\"white\",\"automargin\":true,\"zerolinewidth\":2},\"yaxis\":{\"gridcolor\":\"white\",\"linecolor\":\"white\",\"ticks\":\"\",\"title\":{\"standoff\":15},\"zerolinecolor\":\"white\",\"automargin\":true,\"zerolinewidth\":2},\"scene\":{\"xaxis\":{\"backgroundcolor\":\"#E5ECF6\",\"gridcolor\":\"white\",\"linecolor\":\"white\",\"showbackground\":true,\"ticks\":\"\",\"zerolinecolor\":\"white\",\"gridwidth\":2},\"yaxis\":{\"backgroundcolor\":\"#E5ECF6\",\"gridcolor\":\"white\",\"linecolor\":\"white\",\"showbackground\":true,\"ticks\":\"\",\"zerolinecolor\":\"white\",\"gridwidth\":2},\"zaxis\":{\"backgroundcolor\":\"#E5ECF6\",\"gridcolor\":\"white\",\"linecolor\":\"white\",\"showbackground\":true,\"ticks\":\"\",\"zerolinecolor\":\"white\",\"gridwidth\":2}},\"shapedefaults\":{\"line\":{\"color\":\"#2a3f5f\"}},\"annotationdefaults\":{\"arrowcolor\":\"#2a3f5f\",\"arrowhead\":0,\"arrowwidth\":1},\"geo\":{\"bgcolor\":\"white\",\"landcolor\":\"#E5ECF6\",\"subunitcolor\":\"white\",\"showland\":true,\"showlakes\":true,\"lakecolor\":\"white\"},\"title\":{\"x\":0.05},\"mapbox\":{\"style\":\"light\"}}},\"mapbox\":{\"domain\":{\"x\":[0.0,1.0],\"y\":[0.0,1.0]},\"center\":{\"lat\":-9.085285612162162,\"lon\":-35.695185034459456},\"zoom\":3,\"style\":\"open-street-map\"},\"legend\":{\"tracegroupgap\":0},\"margin\":{\"t\":60},\"height\":300},                        {\"responsive\": true}                    )                };                            </script>        </div>"
      ],
      "text/plain": [
       "Figure({\n",
       "    'data': [{'customdata': array([['Alugo casa estilo kitnet ', 'R$ 800',\n",
       "                                    'https://pe.olx.com.br/grande-recife/imoveis/alugo-casa-estilo-kitnet-1355828350'],\n",
       "                                   ['PENSIONATO CIDADE UNIVERSITÁRIA - UFPE', 'R$ 680',\n",
       "                                    'https://pe.olx.com.br/grande-recife/imoveis/pensionato-cidade-universitaria-ufpe-1316924785'],\n",
       "                                   ['Quarto privativo - Madalena', 'R$ 650',\n",
       "                                    'https://pe.olx.com.br/grande-recife/imoveis/quarto-privativo-madalena-1355931998'],\n",
       "                                   ...,\n",
       "                                   ['Casa pra alugar ', 'R$ 650',\n",
       "                                    'https://pe.olx.com.br/grande-recife/imoveis/casa-pra-alugar-1339278014'],\n",
       "                                   ['Casa de vila para aluguel com 40 mts² com 2 quartos no Cordeiro - Recife .',\n",
       "                                    'R$ 650',\n",
       "                                    'https://pe.olx.com.br/grande-recife/imoveis/casa-de-vila-para-aluguel-com-40-mts-com-2-quartos-no-cordeiro-recife-1293934549'],\n",
       "                                   ['Apartamento para aluguel, 1 quarto, 1 vaga, Cordeiro - Recife/PE',\n",
       "                                    'R$ 880',\n",
       "                                    'https://pe.olx.com.br/grande-recife/imoveis/apartamento-para-aluguel-1-quarto-1-vaga-cordeiro-recife-pe-1282369079']],\n",
       "                                  dtype=object),\n",
       "              'hovertemplate': ('<b>%{hovertext}</b><br><br>lat' ... '{customdata[2]}<extra></extra>'),\n",
       "              'hovertext': array(['Alugo casa estilo kitnet ', 'PENSIONATO CIDADE UNIVERSITÁRIA - UFPE',\n",
       "                                  'Quarto privativo - Madalena', 'Quarto individual Masculino',\n",
       "                                  'Casa em ótima localização, próximo ao centro!',\n",
       "                                  'Casa próximo a ufpe 600mts ', 'Casa para Alugar - Próximo ao Centro',\n",
       "                                  'Salas Aluguel Cidade Universitária Várzea', 'Aluguel de casa',\n",
       "                                  'Kitnet  na caxangá', 'Aluga-se apartamento ',\n",
       "                                  'Quarto em apto Compartilhado',\n",
       "                                  'Quartos individuais para alunas de mestrado e doutorado próximo a UFPE',\n",
       "                                  'Loft Derby', 'Aluga-se um kitnet ',\n",
       "                                  'kitnet próximo a UFPE na Várzea - Recife - PE',\n",
       "                                  'Aluga-se Quarto mobiliado ao lado da UFPE - Vaga para mulheres ',\n",
       "                                  'Aluga vaga de quarto na Várzea próximo UFPE e CAXANGÁ',\n",
       "                                  'Casa super grande em Dois unidos ', 'Aluguel Flat/Kitnet na Várzea!',\n",
       "                                  'Quarto para alugar no Cordeiro ',\n",
       "                                  'Aluga-se quarto  para estudantes e sala comercial, próximo a UFPE',\n",
       "                                  'Kitnet mobiliado em jardim Petrópolis na várzea ',\n",
       "                                  'Kitnet Individual para Estudante UFPE', 'Casa na Várzea ',\n",
       "                                  'Vendo ou alugo', 'Casa com Sala Ampla',\n",
       "                                  'KITINETE * EM FRENTE  ao CFCH * UFPE  **** APT com 2 quartos próximo do HC UFPE',\n",
       "                                  'Apartamento compartilhado. ',\n",
       "                                  'Alugo Kitnet e outros imóveis próximos da UFPE',\n",
       "                                  'Apartamento para Alugar',\n",
       "                                  'Aluga-se casa com dois quartos, banheiro, cozinha americana.',\n",
       "                                  'Alugo casa na Iputinga poucos metros da av. Caxangá ',\n",
       "                                  'Kitnet para Alugar no Engenho do Meio', 'Alugam-se kit nets em Recife',\n",
       "                                  'aluga apartamento ', 'Casa no cordeiro', 'Casa para alugar ',\n",
       "                                  'Kitnet na Várzea', 'Alugo loft , apartamento, casa',\n",
       "                                  'Apartamento 01 quarto no Cordeiro/Iputinga/Caxangá',\n",
       "                                  'Alugo Ap. 1 quarto no Cordeiro/Caxangá/Iputinga', 'Casa no Cordeiro ',\n",
       "                                  'Casa na torre/ vila Santa luzia ',\n",
       "                                  'Loft 2 aluguel por diária no Derby.',\n",
       "                                  'Casa aconchegante com 2 quartos ',\n",
       "                                  'Aluguel de quarto na Torre- Recife (somente para meninas)',\n",
       "                                  'Aluguel kinet na várzea ', 'Quarto com banheiro para meninas',\n",
       "                                  'Aluga-se um Kitnet próx a UFPE',\n",
       "                                  'Republica para estudantes próximo a UFPE',\n",
       "                                  'Quarto privativo em casa compartilhada. Perto da FASUP',\n",
       "                                  'Aluguel quarto na várzea ', 'ALUGO QUARTO EM AP MOBILIADO',\n",
       "                                  'Alugo casa na Iputiga', 'Pensionato estudantil UFPE',\n",
       "                                  'Kitnet Para Alugar', 'CASA PRA ALUGAR NA VÁRZEA/CDU',\n",
       "                                  '1 quarto em prédio novinho, próximo ao Jockey!', 'Quarto mobiliado ',\n",
       "                                  'Loft Derby, diaria',\n",
       "                                  'Aluga se casa parte de cima na caxangar nova morada',\n",
       "                                  'Casa para alugar, recém reformada',\n",
       "                                  'Alugo Kitnet  próx. A Reitoria da UFPE(ENGENHO DO MEIO).',\n",
       "                                  'Quartos para estudantes ou pessoas que trabalha em Recife .',\n",
       "                                  'APARTAMENTO NO CORDEIRO, BONGI',\n",
       "                                  'LOCAÇÃO - APARTAMENTO 01 QUARTO NA IPUTINGA',\n",
       "                                  'Vende-se um Excelente Apartamento Portal de são Lourenço.',\n",
       "                                  'Alugo apto em Rio doce',\n",
       "                                  'Quarto individual para estudante mulher em casa compartilhada a 10 minutos à pé da UFPE ',\n",
       "                                  'Casa para estudante - Várzea',\n",
       "                                  'Vaga para meninas em apartamento universitário ',\n",
       "                                  'Kitnet com ou sem móveis no bairro do Cordeiro.',\n",
       "                                  'Casa Apipucos Aluga-se', 'EstrelaFlat110',\n",
       "                                  'Alugase quartos para solteiros por temporada...', 'Alugo kitnet ',\n",
       "                                  'Casa pra alugar torrões', 'Kitnet ', 'Kitnets para alugar ',\n",
       "                                  'Aproveite kitnet na Várzea, Jardim Petrópolis',\n",
       "                                  'Alugo quarto para mulheres', 'Alugo 1  quarto Feminino',\n",
       "                                  'casa para alugar', 'Casa para Alugar - Oportunidade Imperdível!',\n",
       "                                  'Casa Ponta de Serrambi 5 Quartos', 'Aluguel de casa no Cordeiro ',\n",
       "                                  'A casa fica localizada  em um condomínio  de frente  ao campo de passarinho',\n",
       "                                  'Alugo kitnet ', 'Aluga-se Kitnet (Flat/Studio) *INDISPONÍVEL*',\n",
       "                                  'Kitnet para moças , no coração do Cordeiro.',\n",
       "                                  'Sala comercial próximo UFPE', 'Aluguel de quarto na Torre',\n",
       "                                  'Kitnet cidade universitária ', 'aluga se apartamento na várzea ',\n",
       "                                  'FLAT ao lado da UFPE *R$  870,00 * Em frente ao DEPT de FARMÁCIA UFPE',\n",
       "                                  'Ap 1 quarto na ur7, 1? andar, sem garagem',\n",
       "                                  'Alugasse quarto um vão só',\n",
       "                                  'Casa em Condomínio Fechado com Piscina e Área Gourmet',\n",
       "                                  'Vagas em apartamento na Torre para mulheres',\n",
       "                                  'Alugo casa em itamaracá ', 'Ponto pra alugar ',\n",
       "                                  'Imóvel para aluguel c/51 M² com 2 quartos em Várzea - Recife - PE',\n",
       "                                  'Quarto estudantil para alugar na Cidade Universitária',\n",
       "                                  'Kit Cozinha Completo - Fogão, Pia e Refrigerador',\n",
       "                                  'Quarto em Apto Na Polidoro Próx a UFPE ( Tudo Incluso )',\n",
       "                                  'Kitnet bem localizado ', 'Ketnet ', 'Casa pra alugar ',\n",
       "                                  'Casa de vila para aluguel com 40 mts² com 2 quartos no Cordeiro - Recife .',\n",
       "                                  'Apartamento para aluguel, 1 quarto, 1 vaga, Cordeiro - Recife/PE'],\n",
       "                                 dtype=object),\n",
       "              'lat': array([ -8.03761205,  -8.0455847 ,  -8.057334  ,  -8.0403065 ,  -8.034775  ,\n",
       "                             -8.0148472 ,  -8.0425462 ,  -8.06667   ,  -8.0554462 ,  -8.042791  ,\n",
       "                             -8.0472249 ,  -8.0486852 ,  -8.0488251 ,  -8.0570025 ,  -8.0325201 ,\n",
       "                             -8.0383139 ,  -8.0524366 ,  -8.0375278 ,  -7.991121  ,  -8.0321643 ,\n",
       "                             -8.048964  ,  -8.0373588 ,  -8.0381959 ,  -8.0532678 ,  -8.0332776 ,\n",
       "                            -11.009881  , -22.478753  ,  -8.0463426 ,  -8.0543104 ,  -8.0463426 ,\n",
       "                             -8.0494684 ,  -8.056377  ,  -8.0398298 ,  -8.0546028 ,  -8.0558157 ,\n",
       "                             -8.0480502 ,  -8.053444  ,  -8.0550883 ,  -8.0332776 ,  -8.0589575 ,\n",
       "                             -8.0427673 ,  -8.0427673 ,  -8.0552739 , -23.4575288 ,  -8.0570025 ,\n",
       "                             -8.0551346 , -22.8703133 ,  -8.0384222 ,  -8.0578688 ,  -8.0059656 ,\n",
       "                             -8.054157  ,  -8.0587836 ,  -8.0423004 ,  -8.0546303 ,  -8.0401903 ,\n",
       "                             -8.0455847 , -22.8971933 ,  -8.0562238 ,  -8.0573814 ,  -8.0321643 ,\n",
       "                             -8.0570025 ,  -8.0215114 ,  -8.0232572 ,  -8.0563566 ,  -8.0629303 ,\n",
       "                             -8.0589575 ,  -8.0373592 ,  -8.0232572 ,  -8.0350183 ,  -8.0562238 ,\n",
       "                             -8.0437033 ,  -8.0464936 ,  -8.0602987 ,  -8.055802  ,  -8.057334  ,\n",
       "                            -23.6208095 ,  -8.0562443 ,  -8.065118  ,  -8.0238191 , -11.009881  ,\n",
       "                             -8.0382038 , -22.377077  ,  -8.022673  ,  -8.0478533 ,  -8.0463426 ,\n",
       "                             -8.0523679 ,  -8.0459986 ,  -7.9796402 ,  -8.042791  ,  -8.0473952 ,\n",
       "                             -8.0453639 ,  -8.0496718 , -28.220271  ,  -8.0373588 ,  -8.0422408 ,\n",
       "                             -8.055802  ,  -8.0374839 ,  -8.0382038 ,  -8.0428561 ,  -8.055802  ,\n",
       "                             -8.049707  ,  -8.0368711 ,  -8.0321643 ,  -8.0148472 ,  -8.0442312 ,\n",
       "                             -8.0384222 ,  -8.0559888 ,  -8.0514716 ,  -8.0428561 ,  -8.0542571 ,\n",
       "                             -8.0521195 ]),\n",
       "              'legendgroup': '',\n",
       "              'lon': array([-34.95408742, -34.9478451 , -34.9059977 , -34.9501129 , -34.9824307 ,\n",
       "                            -34.9238903 , -34.9355396 , -34.95      , -34.9376973 , -34.929521  ,\n",
       "                            -34.9232087 , -34.9556343 , -34.9551351 , -34.904007  , -34.9568051 ,\n",
       "                            -34.9476699 , -34.9391165 , -34.9526308 , -34.920644  , -34.9592364 ,\n",
       "                            -34.920872  , -34.9456277 , -34.9666566 , -34.9431024 , -34.9552448 ,\n",
       "                            -41.892123  , -44.45934   , -34.9559658 , -34.912018  , -34.9559658 ,\n",
       "                            -34.9197342 , -34.939751  , -34.9380784 , -34.9427898 , -34.9145736 ,\n",
       "                            -34.9582279 , -34.92977   , -34.9367558 , -34.9552448 , -34.9208872 ,\n",
       "                            -34.9304204 , -34.9304204 , -34.9226611 , -46.5033936 , -34.904007  ,\n",
       "                            -34.9313925 , -43.4066793 , -34.945364  , -34.9108693 , -34.9312478 ,\n",
       "                            -34.9455465 , -34.9458963 , -34.9477807 , -34.928864  , -34.9324199 ,\n",
       "                            -34.9478451 , -43.1919463 , -34.9589319 , -34.9132019 , -34.9592364 ,\n",
       "                            -34.904007  , -34.9517423 , -34.9506925 , -34.9459553 , -34.9421816 ,\n",
       "                            -34.9208872 , -34.9321246 , -34.9506925 , -34.9412013 , -34.9589319 ,\n",
       "                            -34.9523116 , -34.9236637 , -34.9256774 , -34.921399  , -34.9059977 ,\n",
       "                            -46.7168085 , -34.9249131 , -34.933476  , -34.947507  , -41.892123  ,\n",
       "                            -34.9630518 , -41.7855375 , -34.928116  , -34.9429345 , -34.9559658 ,\n",
       "                            -34.9075562 , -34.9200064 , -34.9173208 , -34.929521  , -34.9429101 ,\n",
       "                            -34.9191105 , -34.9546585 , -48.707366  , -34.9456277 , -34.9461573 ,\n",
       "                            -34.921399  , -34.9770384 , -34.9630518 , -34.9118451 , -34.921399  ,\n",
       "                            -34.941857  , -34.9288973 , -34.9592364 , -34.9238903 , -34.9495443 ,\n",
       "                            -34.945364  , -34.9219378 , -34.9356308 , -34.9118451 , -34.9363085 ,\n",
       "                            -34.9260977 ]),\n",
       "              'marker': {'color': 'fuchsia'},\n",
       "              'mode': 'markers',\n",
       "              'name': '',\n",
       "              'showlegend': False,\n",
       "              'subplot': 'mapbox',\n",
       "              'type': 'scattermapbox'}],\n",
       "    'layout': {'height': 300,\n",
       "               'legend': {'tracegroupgap': 0},\n",
       "               'mapbox': {'center': {'lat': np.float64(-9.085285612162162), 'lon': np.float64(-35.695185034459456)},\n",
       "                          'domain': {'x': [0.0, 1.0], 'y': [0.0, 1.0]},\n",
       "                          'style': 'open-street-map',\n",
       "                          'zoom': 3},\n",
       "               'margin': {'t': 60},\n",
       "               'template': '...'}\n",
       "})"
      ]
     },
     "execution_count": 25,
     "metadata": {},
     "output_type": "execute_result"
    }
   ],
   "source": [
    "fig = px.scatter_mapbox(df, lat=\"lat\", lon=\"lng\", hover_name=\"title\", hover_data=[\"title\", \"price\", \"url\"],\n",
    "color_discrete_sequence=[\"fuchsia\"], zoom=3, height=300)\n",
    "fig.update_layout(mapbox_style=\"open-street-map\")"
   ]
  },
  {
   "cell_type": "code",
   "execution_count": null,
   "metadata": {},
   "outputs": [],
   "source": [
    "# Clickable Links in Popups (untested)\n",
    "import pandas as pd\n",
    "import plotly.graph_objects as go\n",
    "import webbrowser\n",
    "\n",
    "# Sample DataFrame\n",
    "df = pd.DataFrame({\n",
    "    'lat': [40.7128, 34.0522, 41.8781],\n",
    "    'lon': [-74.0060, -118.2437, -87.6298],\n",
    "    'link': ['https://www.google.com', 'https://www.bing.com', 'https://www.duckduckgo.com']\n",
    "})\n",
    "\n",
    "# Create a FigureWidget\n",
    "fig = go.FigureWidget(layout=go.Layout(hovermode='closest'))\n",
    "\n",
    "# Add scattermapbox trace\n",
    "scatter = fig.add_scattermapbox(lat=df['lat'], lon=df['lon'], mode='markers')\n",
    "\n",
    "# Define the click callback\n",
    "def on_click(trace, points, state):\n",
    "    if points.point_inds:\n",
    "        ind = points.point_inds[0]\n",
    "        url = df['link'].iloc[ind]\n",
    "        webbrowser.open_new_tab(url)\n",
    "\n",
    "# Register the click callback\n",
    "scatter.on_click(on_click)\n",
    "\n",
    "# Show the map\n",
    "fig.show()\n"
   ]
  }
 ],
 "metadata": {
  "kernelspec": {
   "display_name": "Python 3",
   "language": "python",
   "name": "python3"
  },
  "language_info": {
   "codemirror_mode": {
    "name": "ipython",
    "version": 3
   },
   "file_extension": ".py",
   "mimetype": "text/x-python",
   "name": "python",
   "nbconvert_exporter": "python",
   "pygments_lexer": "ipython3",
   "version": "3.13.0"
  }
 },
 "nbformat": 4,
 "nbformat_minor": 2
}
