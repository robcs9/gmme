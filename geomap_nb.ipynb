{
 "cells": [
  {
   "cell_type": "markdown",
   "metadata": {},
   "source": [
    "# Geopandas Notes"
   ]
  },
  {
   "cell_type": "code",
   "execution_count": null,
   "metadata": {},
   "outputs": [],
   "source": [
    "import geopandas as gpd"
   ]
  },
  {
   "cell_type": "code",
   "execution_count": null,
   "metadata": {},
   "outputs": [],
   "source": [
    "import fiona\n",
    "fiona.drvsupport.supported_drivers\n",
    "\n",
    "# housing_data = gpd.read_file('./data/data.csv')\n",
    "\n",
    "# map_data = gpd.read_file('./data/moradias.kmz', driver='KMZ', allow)\n",
    "\n",
    "# map_data.plot()"
   ]
  },
  {
   "cell_type": "markdown",
   "metadata": {},
   "source": [
    "# Dynamic Map Services"
   ]
  },
  {
   "cell_type": "code",
   "execution_count": null,
   "metadata": {},
   "outputs": [],
   "source": [
    "import pandas as pd\n",
    "import plotly.express as px"
   ]
  },
  {
   "cell_type": "code",
   "execution_count": null,
   "metadata": {},
   "outputs": [],
   "source": [
    "# import sys\n",
    "# sys.path.append('./archive')\n",
    "df = pd.read_csv('./archive/data_sample.csv', index_col=0)\n",
    "print(df[['title','price','address','url']].head())"
   ]
  },
  {
   "cell_type": "code",
   "execution_count": null,
   "metadata": {},
   "outputs": [],
   "source": [
    "fig = px.scatter_mapbox(df, lat=\"lat\", lon=\"lng\", hover_name=\"title\", hover_data=[\"title\", \"price\", \"url\"],\n",
    "color_discrete_sequence=[\"fuchsia\"], zoom=3, height=300)\n",
    "fig.update_layout(mapbox_style=\"open-street-map\")"
   ]
  },
  {
   "cell_type": "code",
   "execution_count": null,
   "metadata": {},
   "outputs": [],
   "source": [
    "# Clickable Links in Popups (untested)\n",
    "import pandas as pd\n",
    "import plotly.graph_objects as go\n",
    "import webbrowser\n",
    "\n",
    "# Sample DataFrame\n",
    "df = pd.DataFrame({\n",
    "    'lat': [40.7128, 34.0522, 41.8781],\n",
    "    'lon': [-74.0060, -118.2437, -87.6298],\n",
    "    'link': ['https://www.google.com', 'https://www.bing.com', 'https://www.duckduckgo.com']\n",
    "})\n",
    "\n",
    "# Create a FigureWidget\n",
    "fig = go.FigureWidget(layout=go.Layout(hovermode='closest'))\n",
    "\n",
    "# Add scattermapbox trace\n",
    "scatter = fig.add_scattermapbox(lat=df['lat'], lon=df['lon'], mode='markers')\n",
    "\n",
    "# Define the click callback\n",
    "def on_click(trace, points, state):\n",
    "    if points.point_inds:\n",
    "        ind = points.point_inds[0]\n",
    "        url = df['link'].iloc[ind]\n",
    "        webbrowser.open_new_tab(url)\n",
    "\n",
    "# Register the click callback\n",
    "# scatter.on_click(on_click)\n",
    "\n",
    "# Show the map\n",
    "# fig.show()\n"
   ]
  }
 ],
 "metadata": {
  "kernelspec": {
   "display_name": "Python 3",
   "language": "python",
   "name": "python3"
  },
  "language_info": {
   "codemirror_mode": {
    "name": "ipython",
    "version": 3
   },
   "file_extension": ".py",
   "mimetype": "text/x-python",
   "name": "python",
   "nbconvert_exporter": "python",
   "pygments_lexer": "ipython3",
   "version": "3.12.6"
  }
 },
 "nbformat": 4,
 "nbformat_minor": 2
}
