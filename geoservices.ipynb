{
 "cells": [
  {
   "cell_type": "code",
   "execution_count": null,
   "metadata": {
    "colab": {
     "base_uri": "https://localhost:8080/"
    },
    "id": "XjwDcHMQLeZb",
    "outputId": "061c00da-9ba7-4b9b-9f88-a5d1f67aba39"
   },
   "outputs": [
    {
     "name": "stdout",
     "output_type": "stream",
     "text": [
      "Collecting curl_cffi\n",
      "  Downloading curl_cffi-0.7.3-cp38-abi3-manylinux_2_17_x86_64.manylinux2014_x86_64.whl.metadata (12 kB)\n",
      "Collecting bs4\n",
      "  Downloading bs4-0.0.2-py2.py3-none-any.whl.metadata (411 bytes)\n",
      "Requirement already satisfied: cffi>=1.12.0 in /usr/local/lib/python3.10/dist-packages (from curl_cffi) (1.17.1)\n",
      "Requirement already satisfied: certifi>=2024.2.2 in /usr/local/lib/python3.10/dist-packages (from curl_cffi) (2024.8.30)\n",
      "Requirement already satisfied: typing-extensions in /usr/local/lib/python3.10/dist-packages (from curl_cffi) (4.12.2)\n",
      "Requirement already satisfied: beautifulsoup4 in /usr/local/lib/python3.10/dist-packages (from bs4) (4.12.3)\n",
      "Requirement already satisfied: pycparser in /usr/local/lib/python3.10/dist-packages (from cffi>=1.12.0->curl_cffi) (2.22)\n",
      "Requirement already satisfied: soupsieve>1.2 in /usr/local/lib/python3.10/dist-packages (from beautifulsoup4->bs4) (2.6)\n",
      "Downloading curl_cffi-0.7.3-cp38-abi3-manylinux_2_17_x86_64.manylinux2014_x86_64.whl (6.1 MB)\n",
      "\u001b[2K   \u001b[90m━━━━━━━━━━━━━━━━━━━━━━━━━━━━━━━━━━━━━━━━\u001b[0m \u001b[32m6.1/6.1 MB\u001b[0m \u001b[31m49.8 MB/s\u001b[0m eta \u001b[36m0:00:00\u001b[0m\n",
      "\u001b[?25hDownloading bs4-0.0.2-py2.py3-none-any.whl (1.2 kB)\n",
      "Installing collected packages: curl_cffi, bs4\n",
      "Successfully installed bs4-0.0.2 curl_cffi-0.7.3\n"
     ]
    }
   ],
   "source": [
    "%pip install curl_cffi bs4\n",
    "import requests\n",
    "import json\n",
    "from curl_cffi import requests as curlrq\n",
    "from bs4 import BeautifulSoup\n",
    "\n",
    "YOUR_API_KEY = \"5d08dda87ceb4e07910a27e3696f534e\"\n",
    "query = \"54330-075\" # cep\n",
    "\n",
    "def geocode(query, API_KEY):\n",
    "  url = f\"https://api.geoapify.com/v1/geocode/search?postcode={query}&country=brazil&type=postcode&format=json&apiKey={YOUR_API_KEY}\"\n",
    "  return requests.get(url).json()['results'][0]\n"
   ]
  },
  {
   "cell_type": "code",
   "execution_count": null,
   "metadata": {
    "id": "HCDWf9B1Tgae"
   },
   "outputs": [],
   "source": [
    "listingId = 0\n",
    "prev_data = [{'foo': 'bar'}, {'fizz': 'buzz'}, {'cep': '12345678'}]\n",
    "url = 'https://www.webquarto.com.br/quarto/73262/co-living-zona-norte-quartos-nas-gracas'\n",
    "\n",
    "# Compare previous records with new data\n",
    "\n",
    "# check if the ad already exists\n",
    "def compareWithAds(curr_ad: dict, ads: list):\n",
    "  for ad in ads:\n",
    "    if curr_ad['url'] == ad['url']:\n",
    "      return True\n",
    "  return False\n",
    "\n",
    "# IF the ad does not exist and the provider is OLX: geocode its CEP and\n",
    "# append the data, ELSE just update the data\n",
    "\n",
    "\n",
    "# Geocode test\n",
    "geo_data = geocode(query, YOUR_API_KEY)"
   ]
  },
  {
   "cell_type": "code",
   "execution_count": null,
   "metadata": {
    "colab": {
     "base_uri": "https://localhost:8080/"
    },
    "id": "2Et2_Cqs8tyL",
    "outputId": "9b8af9eb-8e33-4e47-b9be-e11dac3da0ed"
   },
   "outputs": [
    {
     "data": {
      "text/plain": [
       "(-8.1760394,\n",
       " -34.92846,\n",
       " {'lon1': -34.9300238,\n",
       "  'lat1': -8.1773045,\n",
       "  'lon2': -34.92343,\n",
       "  'lat2': -8.1724345})"
      ]
     },
     "execution_count": 54,
     "metadata": {},
     "output_type": "execute_result"
    }
   ],
   "source": [
    "from math import pi as PI\n",
    "\n",
    "# Calculating circular area for a marker\n",
    "lat, lng, bbox = geo_data['lat'], geo_data['lon'], geo_data['bbox']\n",
    "radius = bbox['lat1'] - bbox['lat2']\n",
    "mrkr_area = PI * radius**2\n",
    "\n",
    "# handling markers collisions\n",
    "def disperseMarkers(markers: list):\n",
    "    \n",
    "\n",
    "# links importantes\n",
    "# https://apidocs.geoapify.com/playground/geocoding/?params=%7B%22query%22:%2254330075%22,%22postcode%22:%2254330-075%22,%22country%22:%22brazil%22,%22type%22:%22postcode%22,%22filterValue%22:%7B%22radiusMeters%22:20,%22lat1%22:-8.175989063843247,%22lon1%22:-34.927945655743656%7D,%22biasValue%22:%7B%22radiusMeters%22:10,%22lat1%22:-8.1773045,%22lon1%22:-34.9300238,%22lat2%22:-8.1724345,%22lon2%22:-34.92343%7D,%22bias%22:%22rect%22,%22filter%22:%22circle%22%7D&geocodingSearchType=structured\n",
    "# https://www.geoapify.com/solutions/batch-geocoding-requests/\n",
    "# https://apidocs.geoapify.com/playground/geocoding/?params=%7B%22query%22:%2238%20Upper%20Montagu%20Street,%20London%20W1H%201LJ,%20United%20Kingdom%22,%22filterValue%22:%7B%22radiusMeters%22:1000%7D,%22biasValue%22:%7B%22radiusMeters%22:1000%7D%7D&geocodingSearchType=full\n",
    "# https://www.geoapify.com/tutorial/geocoding-python/\n",
    "# https://pypi.org/project/geobatchpy/\n",
    "# https://apidocs.geoapify.com/playground/maps/\n",
    "# https://apidocs.geoapify.com/docs/geocoding/batch/\n",
    "# https://apidocs.geoapify.com/playground/batch/\n",
    "# https://apidocs.geoapify.com/playground/geocoding/?params=%7B%22query%22:%2238%20Upper%20Montagu%20Street,%20London%20W1H%201LJ,%20United%20Kingdom%22,%22filterValue%22:%7B%22radiusMeters%22:1000%7D,%22biasValue%22:%7B%22radiusMeters%22:1000%7D%7D&geocodingSearchType=full"
   ]
  }
 ],
 "metadata": {
  "colab": {
   "history_visible": true,
   "provenance": []
  },
  "kernelspec": {
   "display_name": "Python 3",
   "name": "python3"
  },
  "language_info": {
   "name": "python"
  }
 },
 "nbformat": 4,
 "nbformat_minor": 0
}
